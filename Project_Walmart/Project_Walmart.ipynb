{
 "cells": [
  {
   "cell_type": "markdown",
   "id": "8b0e465c-7f4c-4b4b-9ff3-c1cc898e3f60",
   "metadata": {},
   "source": [
    "# **WALMART Project**"
   ]
  },
  {
   "cell_type": "markdown",
   "id": "26576c3a-d2ed-4226-bad7-9a8885dd536b",
   "metadata": {},
   "source": [
    "# Importing librairies"
   ]
  },
  {
   "cell_type": "code",
   "execution_count": 2,
   "id": "a7bbaa46-f370-4bb2-b38f-53e794c4cb17",
   "metadata": {
    "tags": []
   },
   "outputs": [],
   "source": [
    "import pandas as pd\n",
    "import numpy as np\n",
    "import seaborn as sns\n",
    "import matplotlib.pyplot as plt\n",
    "import plotly.express as px\n",
    "\n",
    "from sklearn.model_selection import train_test_split\n",
    "from sklearn.pipeline import Pipeline\n",
    "from sklearn.impute import SimpleImputer\n",
    "from sklearn.preprocessing import  OneHotEncoder, StandardScaler\n",
    "from sklearn.compose import ColumnTransformer\n",
    "from sklearn.linear_model import LinearRegression\n",
    "from sklearn.metrics import r2_score\n",
    "from sklearn.linear_model import Ridge, Lasso\n",
    "from sklearn.model_selection import cross_val_score, GridSearchCV\n",
    "from sklearn.metrics import accuracy_score\n",
    "import warnings\n",
    "warnings.filterwarnings(\"ignore\", category=DeprecationWarning)\n",
    "%matplotlib inline"
   ]
  },
  {
   "cell_type": "markdown",
   "id": "9955b259-f8ce-4ba6-aa35-65b7c017604d",
   "metadata": {
    "tags": []
   },
   "source": [
    "# 1. READING DATASET AND EDA"
   ]
  },
  {
   "cell_type": "code",
   "execution_count": 3,
   "id": "4677ef3c-dc71-4cca-b090-7e3d8b344f5d",
   "metadata": {
    "tags": []
   },
   "outputs": [
    {
     "data": {
      "text/html": [
       "<div>\n",
       "<style scoped>\n",
       "    .dataframe tbody tr th:only-of-type {\n",
       "        vertical-align: middle;\n",
       "    }\n",
       "\n",
       "    .dataframe tbody tr th {\n",
       "        vertical-align: top;\n",
       "    }\n",
       "\n",
       "    .dataframe thead th {\n",
       "        text-align: right;\n",
       "    }\n",
       "</style>\n",
       "<table border=\"1\" class=\"dataframe\">\n",
       "  <thead>\n",
       "    <tr style=\"text-align: right;\">\n",
       "      <th></th>\n",
       "      <th>Store</th>\n",
       "      <th>Date</th>\n",
       "      <th>Weekly_Sales</th>\n",
       "      <th>Holiday_Flag</th>\n",
       "      <th>Temperature</th>\n",
       "      <th>Fuel_Price</th>\n",
       "      <th>CPI</th>\n",
       "      <th>Unemployment</th>\n",
       "    </tr>\n",
       "  </thead>\n",
       "  <tbody>\n",
       "    <tr>\n",
       "      <th>0</th>\n",
       "      <td>6.0</td>\n",
       "      <td>18-02-2011</td>\n",
       "      <td>1572117.54</td>\n",
       "      <td>NaN</td>\n",
       "      <td>59.61</td>\n",
       "      <td>3.045</td>\n",
       "      <td>214.777523</td>\n",
       "      <td>6.858</td>\n",
       "    </tr>\n",
       "    <tr>\n",
       "      <th>1</th>\n",
       "      <td>13.0</td>\n",
       "      <td>25-03-2011</td>\n",
       "      <td>1807545.43</td>\n",
       "      <td>0.0</td>\n",
       "      <td>42.38</td>\n",
       "      <td>3.435</td>\n",
       "      <td>128.616064</td>\n",
       "      <td>7.470</td>\n",
       "    </tr>\n",
       "    <tr>\n",
       "      <th>2</th>\n",
       "      <td>17.0</td>\n",
       "      <td>27-07-2012</td>\n",
       "      <td>NaN</td>\n",
       "      <td>0.0</td>\n",
       "      <td>NaN</td>\n",
       "      <td>NaN</td>\n",
       "      <td>130.719581</td>\n",
       "      <td>5.936</td>\n",
       "    </tr>\n",
       "    <tr>\n",
       "      <th>3</th>\n",
       "      <td>11.0</td>\n",
       "      <td>NaN</td>\n",
       "      <td>1244390.03</td>\n",
       "      <td>0.0</td>\n",
       "      <td>84.57</td>\n",
       "      <td>NaN</td>\n",
       "      <td>214.556497</td>\n",
       "      <td>7.346</td>\n",
       "    </tr>\n",
       "    <tr>\n",
       "      <th>4</th>\n",
       "      <td>6.0</td>\n",
       "      <td>28-05-2010</td>\n",
       "      <td>1644470.66</td>\n",
       "      <td>0.0</td>\n",
       "      <td>78.89</td>\n",
       "      <td>2.759</td>\n",
       "      <td>212.412888</td>\n",
       "      <td>7.092</td>\n",
       "    </tr>\n",
       "  </tbody>\n",
       "</table>\n",
       "</div>"
      ],
      "text/plain": [
       "   Store        Date  Weekly_Sales  Holiday_Flag  Temperature  Fuel_Price  \\\n",
       "0    6.0  18-02-2011    1572117.54           NaN        59.61       3.045   \n",
       "1   13.0  25-03-2011    1807545.43           0.0        42.38       3.435   \n",
       "2   17.0  27-07-2012           NaN           0.0          NaN         NaN   \n",
       "3   11.0         NaN    1244390.03           0.0        84.57         NaN   \n",
       "4    6.0  28-05-2010    1644470.66           0.0        78.89       2.759   \n",
       "\n",
       "          CPI  Unemployment  \n",
       "0  214.777523         6.858  \n",
       "1  128.616064         7.470  \n",
       "2  130.719581         5.936  \n",
       "3  214.556497         7.346  \n",
       "4  212.412888         7.092  "
      ]
     },
     "execution_count": 3,
     "metadata": {},
     "output_type": "execute_result"
    }
   ],
   "source": [
    "df = pd.read_csv(\"Walmart_Store_sales.csv\")\n",
    "df.head()"
   ]
  },
  {
   "cell_type": "markdown",
   "id": "8ea7a300-08c1-403c-852a-92f436491403",
   "metadata": {
    "tags": []
   },
   "source": [
    "## Basic Analysis"
   ]
  },
  {
   "cell_type": "code",
   "execution_count": 6,
   "id": "7948f04e-8fd3-4493-a630-d4bf8139b54c",
   "metadata": {
    "tags": []
   },
   "outputs": [
    {
     "name": "stdout",
     "output_type": "stream",
     "text": [
      "Number of rows : 150\n",
      "\n",
      "Basics statistics: \n"
     ]
    },
    {
     "data": {
      "text/html": [
       "<div>\n",
       "<style scoped>\n",
       "    .dataframe tbody tr th:only-of-type {\n",
       "        vertical-align: middle;\n",
       "    }\n",
       "\n",
       "    .dataframe tbody tr th {\n",
       "        vertical-align: top;\n",
       "    }\n",
       "\n",
       "    .dataframe thead th {\n",
       "        text-align: right;\n",
       "    }\n",
       "</style>\n",
       "<table border=\"1\" class=\"dataframe\">\n",
       "  <thead>\n",
       "    <tr style=\"text-align: right;\">\n",
       "      <th></th>\n",
       "      <th>Store</th>\n",
       "      <th>Date</th>\n",
       "      <th>Weekly_Sales</th>\n",
       "      <th>Holiday_Flag</th>\n",
       "      <th>Temperature</th>\n",
       "      <th>Fuel_Price</th>\n",
       "      <th>CPI</th>\n",
       "      <th>Unemployment</th>\n",
       "    </tr>\n",
       "  </thead>\n",
       "  <tbody>\n",
       "    <tr>\n",
       "      <th>count</th>\n",
       "      <td>150.000000</td>\n",
       "      <td>132</td>\n",
       "      <td>1.360000e+02</td>\n",
       "      <td>138.000000</td>\n",
       "      <td>132.000000</td>\n",
       "      <td>136.000000</td>\n",
       "      <td>138.000000</td>\n",
       "      <td>135.000000</td>\n",
       "    </tr>\n",
       "    <tr>\n",
       "      <th>unique</th>\n",
       "      <td>NaN</td>\n",
       "      <td>85</td>\n",
       "      <td>NaN</td>\n",
       "      <td>NaN</td>\n",
       "      <td>NaN</td>\n",
       "      <td>NaN</td>\n",
       "      <td>NaN</td>\n",
       "      <td>NaN</td>\n",
       "    </tr>\n",
       "    <tr>\n",
       "      <th>top</th>\n",
       "      <td>NaN</td>\n",
       "      <td>19-10-2012</td>\n",
       "      <td>NaN</td>\n",
       "      <td>NaN</td>\n",
       "      <td>NaN</td>\n",
       "      <td>NaN</td>\n",
       "      <td>NaN</td>\n",
       "      <td>NaN</td>\n",
       "    </tr>\n",
       "    <tr>\n",
       "      <th>freq</th>\n",
       "      <td>NaN</td>\n",
       "      <td>4</td>\n",
       "      <td>NaN</td>\n",
       "      <td>NaN</td>\n",
       "      <td>NaN</td>\n",
       "      <td>NaN</td>\n",
       "      <td>NaN</td>\n",
       "      <td>NaN</td>\n",
       "    </tr>\n",
       "    <tr>\n",
       "      <th>mean</th>\n",
       "      <td>9.866667</td>\n",
       "      <td>NaN</td>\n",
       "      <td>1.249536e+06</td>\n",
       "      <td>0.079710</td>\n",
       "      <td>61.398106</td>\n",
       "      <td>3.320853</td>\n",
       "      <td>179.898509</td>\n",
       "      <td>7.598430</td>\n",
       "    </tr>\n",
       "    <tr>\n",
       "      <th>std</th>\n",
       "      <td>6.231191</td>\n",
       "      <td>NaN</td>\n",
       "      <td>6.474630e+05</td>\n",
       "      <td>0.271831</td>\n",
       "      <td>18.378901</td>\n",
       "      <td>0.478149</td>\n",
       "      <td>40.274956</td>\n",
       "      <td>1.577173</td>\n",
       "    </tr>\n",
       "    <tr>\n",
       "      <th>min</th>\n",
       "      <td>1.000000</td>\n",
       "      <td>NaN</td>\n",
       "      <td>2.689290e+05</td>\n",
       "      <td>0.000000</td>\n",
       "      <td>18.790000</td>\n",
       "      <td>2.514000</td>\n",
       "      <td>126.111903</td>\n",
       "      <td>5.143000</td>\n",
       "    </tr>\n",
       "    <tr>\n",
       "      <th>25%</th>\n",
       "      <td>4.000000</td>\n",
       "      <td>NaN</td>\n",
       "      <td>6.050757e+05</td>\n",
       "      <td>0.000000</td>\n",
       "      <td>45.587500</td>\n",
       "      <td>2.852250</td>\n",
       "      <td>131.970831</td>\n",
       "      <td>6.597500</td>\n",
       "    </tr>\n",
       "    <tr>\n",
       "      <th>50%</th>\n",
       "      <td>9.000000</td>\n",
       "      <td>NaN</td>\n",
       "      <td>1.261424e+06</td>\n",
       "      <td>0.000000</td>\n",
       "      <td>62.985000</td>\n",
       "      <td>3.451000</td>\n",
       "      <td>197.908893</td>\n",
       "      <td>7.470000</td>\n",
       "    </tr>\n",
       "    <tr>\n",
       "      <th>75%</th>\n",
       "      <td>15.750000</td>\n",
       "      <td>NaN</td>\n",
       "      <td>1.806386e+06</td>\n",
       "      <td>0.000000</td>\n",
       "      <td>76.345000</td>\n",
       "      <td>3.706250</td>\n",
       "      <td>214.934616</td>\n",
       "      <td>8.150000</td>\n",
       "    </tr>\n",
       "    <tr>\n",
       "      <th>max</th>\n",
       "      <td>20.000000</td>\n",
       "      <td>NaN</td>\n",
       "      <td>2.771397e+06</td>\n",
       "      <td>1.000000</td>\n",
       "      <td>91.650000</td>\n",
       "      <td>4.193000</td>\n",
       "      <td>226.968844</td>\n",
       "      <td>14.313000</td>\n",
       "    </tr>\n",
       "  </tbody>\n",
       "</table>\n",
       "</div>"
      ],
      "text/plain": [
       "             Store        Date  Weekly_Sales  Holiday_Flag  Temperature  \\\n",
       "count   150.000000         132  1.360000e+02    138.000000   132.000000   \n",
       "unique         NaN          85           NaN           NaN          NaN   \n",
       "top            NaN  19-10-2012           NaN           NaN          NaN   \n",
       "freq           NaN           4           NaN           NaN          NaN   \n",
       "mean      9.866667         NaN  1.249536e+06      0.079710    61.398106   \n",
       "std       6.231191         NaN  6.474630e+05      0.271831    18.378901   \n",
       "min       1.000000         NaN  2.689290e+05      0.000000    18.790000   \n",
       "25%       4.000000         NaN  6.050757e+05      0.000000    45.587500   \n",
       "50%       9.000000         NaN  1.261424e+06      0.000000    62.985000   \n",
       "75%      15.750000         NaN  1.806386e+06      0.000000    76.345000   \n",
       "max      20.000000         NaN  2.771397e+06      1.000000    91.650000   \n",
       "\n",
       "        Fuel_Price         CPI  Unemployment  \n",
       "count   136.000000  138.000000    135.000000  \n",
       "unique         NaN         NaN           NaN  \n",
       "top            NaN         NaN           NaN  \n",
       "freq           NaN         NaN           NaN  \n",
       "mean      3.320853  179.898509      7.598430  \n",
       "std       0.478149   40.274956      1.577173  \n",
       "min       2.514000  126.111903      5.143000  \n",
       "25%       2.852250  131.970831      6.597500  \n",
       "50%       3.451000  197.908893      7.470000  \n",
       "75%       3.706250  214.934616      8.150000  \n",
       "max       4.193000  226.968844     14.313000  "
      ]
     },
     "metadata": {},
     "output_type": "display_data"
    },
    {
     "name": "stdout",
     "output_type": "stream",
     "text": [
      "\n",
      "Percentage of missing values: \n"
     ]
    },
    {
     "data": {
      "text/plain": [
       "Store            0.000000\n",
       "Date            12.000000\n",
       "Weekly_Sales     9.333333\n",
       "Holiday_Flag     8.000000\n",
       "Temperature     12.000000\n",
       "Fuel_Price       9.333333\n",
       "CPI              8.000000\n",
       "Unemployment    10.000000\n",
       "dtype: float64"
      ]
     },
     "metadata": {},
     "output_type": "display_data"
    }
   ],
   "source": [
    "# Basic stats\n",
    "print(\"Number of rows : {}\".format(len(df)))\n",
    "print()\n",
    "\n",
    "print(\"Basics statistics: \")\n",
    "data_desc = df.describe(include='all')\n",
    "display(data_desc)\n",
    "print()\n",
    "\n",
    "print(\"Percentage of missing values: \")\n",
    "display(100*df.isnull().sum()/len(df))"
   ]
  },
  {
   "cell_type": "markdown",
   "id": "182335ab-a707-4ad4-a99a-3a8b975620ba",
   "metadata": {
    "tags": []
   },
   "source": [
    "### Dropping the rows with missing values in Weekly_Sales column"
   ]
  },
  {
   "cell_type": "code",
   "execution_count": 7,
   "id": "cb717041-febe-4e81-beb1-1cb9ba07ccf6",
   "metadata": {
    "tags": []
   },
   "outputs": [
    {
     "data": {
      "text/html": [
       "<div>\n",
       "<style scoped>\n",
       "    .dataframe tbody tr th:only-of-type {\n",
       "        vertical-align: middle;\n",
       "    }\n",
       "\n",
       "    .dataframe tbody tr th {\n",
       "        vertical-align: top;\n",
       "    }\n",
       "\n",
       "    .dataframe thead th {\n",
       "        text-align: right;\n",
       "    }\n",
       "</style>\n",
       "<table border=\"1\" class=\"dataframe\">\n",
       "  <thead>\n",
       "    <tr style=\"text-align: right;\">\n",
       "      <th></th>\n",
       "      <th>Store</th>\n",
       "      <th>Date</th>\n",
       "      <th>Weekly_Sales</th>\n",
       "      <th>Holiday_Flag</th>\n",
       "      <th>Temperature</th>\n",
       "      <th>Fuel_Price</th>\n",
       "      <th>CPI</th>\n",
       "      <th>Unemployment</th>\n",
       "    </tr>\n",
       "  </thead>\n",
       "  <tbody>\n",
       "    <tr>\n",
       "      <th>0</th>\n",
       "      <td>6.0</td>\n",
       "      <td>18-02-2011</td>\n",
       "      <td>1572117.54</td>\n",
       "      <td>NaN</td>\n",
       "      <td>59.61</td>\n",
       "      <td>3.045</td>\n",
       "      <td>214.777523</td>\n",
       "      <td>6.858</td>\n",
       "    </tr>\n",
       "    <tr>\n",
       "      <th>1</th>\n",
       "      <td>13.0</td>\n",
       "      <td>25-03-2011</td>\n",
       "      <td>1807545.43</td>\n",
       "      <td>0.0</td>\n",
       "      <td>42.38</td>\n",
       "      <td>3.435</td>\n",
       "      <td>128.616064</td>\n",
       "      <td>7.470</td>\n",
       "    </tr>\n",
       "    <tr>\n",
       "      <th>3</th>\n",
       "      <td>11.0</td>\n",
       "      <td>NaN</td>\n",
       "      <td>1244390.03</td>\n",
       "      <td>0.0</td>\n",
       "      <td>84.57</td>\n",
       "      <td>NaN</td>\n",
       "      <td>214.556497</td>\n",
       "      <td>7.346</td>\n",
       "    </tr>\n",
       "    <tr>\n",
       "      <th>4</th>\n",
       "      <td>6.0</td>\n",
       "      <td>28-05-2010</td>\n",
       "      <td>1644470.66</td>\n",
       "      <td>0.0</td>\n",
       "      <td>78.89</td>\n",
       "      <td>2.759</td>\n",
       "      <td>212.412888</td>\n",
       "      <td>7.092</td>\n",
       "    </tr>\n",
       "    <tr>\n",
       "      <th>5</th>\n",
       "      <td>4.0</td>\n",
       "      <td>28-05-2010</td>\n",
       "      <td>1857533.70</td>\n",
       "      <td>0.0</td>\n",
       "      <td>NaN</td>\n",
       "      <td>2.756</td>\n",
       "      <td>126.160226</td>\n",
       "      <td>7.896</td>\n",
       "    </tr>\n",
       "    <tr>\n",
       "      <th>...</th>\n",
       "      <td>...</td>\n",
       "      <td>...</td>\n",
       "      <td>...</td>\n",
       "      <td>...</td>\n",
       "      <td>...</td>\n",
       "      <td>...</td>\n",
       "      <td>...</td>\n",
       "      <td>...</td>\n",
       "    </tr>\n",
       "    <tr>\n",
       "      <th>145</th>\n",
       "      <td>14.0</td>\n",
       "      <td>18-06-2010</td>\n",
       "      <td>2248645.59</td>\n",
       "      <td>0.0</td>\n",
       "      <td>72.62</td>\n",
       "      <td>2.780</td>\n",
       "      <td>182.442420</td>\n",
       "      <td>8.899</td>\n",
       "    </tr>\n",
       "    <tr>\n",
       "      <th>146</th>\n",
       "      <td>7.0</td>\n",
       "      <td>NaN</td>\n",
       "      <td>716388.81</td>\n",
       "      <td>NaN</td>\n",
       "      <td>20.74</td>\n",
       "      <td>2.778</td>\n",
       "      <td>NaN</td>\n",
       "      <td>NaN</td>\n",
       "    </tr>\n",
       "    <tr>\n",
       "      <th>147</th>\n",
       "      <td>17.0</td>\n",
       "      <td>11-06-2010</td>\n",
       "      <td>845252.21</td>\n",
       "      <td>0.0</td>\n",
       "      <td>57.14</td>\n",
       "      <td>2.841</td>\n",
       "      <td>126.111903</td>\n",
       "      <td>NaN</td>\n",
       "    </tr>\n",
       "    <tr>\n",
       "      <th>148</th>\n",
       "      <td>8.0</td>\n",
       "      <td>12-08-2011</td>\n",
       "      <td>856796.10</td>\n",
       "      <td>0.0</td>\n",
       "      <td>86.05</td>\n",
       "      <td>3.638</td>\n",
       "      <td>219.007525</td>\n",
       "      <td>NaN</td>\n",
       "    </tr>\n",
       "    <tr>\n",
       "      <th>149</th>\n",
       "      <td>19.0</td>\n",
       "      <td>20-04-2012</td>\n",
       "      <td>1255087.26</td>\n",
       "      <td>0.0</td>\n",
       "      <td>55.20</td>\n",
       "      <td>4.170</td>\n",
       "      <td>137.923067</td>\n",
       "      <td>8.150</td>\n",
       "    </tr>\n",
       "  </tbody>\n",
       "</table>\n",
       "<p>136 rows × 8 columns</p>\n",
       "</div>"
      ],
      "text/plain": [
       "     Store        Date  Weekly_Sales  Holiday_Flag  Temperature  Fuel_Price  \\\n",
       "0      6.0  18-02-2011    1572117.54           NaN        59.61       3.045   \n",
       "1     13.0  25-03-2011    1807545.43           0.0        42.38       3.435   \n",
       "3     11.0         NaN    1244390.03           0.0        84.57         NaN   \n",
       "4      6.0  28-05-2010    1644470.66           0.0        78.89       2.759   \n",
       "5      4.0  28-05-2010    1857533.70           0.0          NaN       2.756   \n",
       "..     ...         ...           ...           ...          ...         ...   \n",
       "145   14.0  18-06-2010    2248645.59           0.0        72.62       2.780   \n",
       "146    7.0         NaN     716388.81           NaN        20.74       2.778   \n",
       "147   17.0  11-06-2010     845252.21           0.0        57.14       2.841   \n",
       "148    8.0  12-08-2011     856796.10           0.0        86.05       3.638   \n",
       "149   19.0  20-04-2012    1255087.26           0.0        55.20       4.170   \n",
       "\n",
       "            CPI  Unemployment  \n",
       "0    214.777523         6.858  \n",
       "1    128.616064         7.470  \n",
       "3    214.556497         7.346  \n",
       "4    212.412888         7.092  \n",
       "5    126.160226         7.896  \n",
       "..          ...           ...  \n",
       "145  182.442420         8.899  \n",
       "146         NaN           NaN  \n",
       "147  126.111903           NaN  \n",
       "148  219.007525           NaN  \n",
       "149  137.923067         8.150  \n",
       "\n",
       "[136 rows x 8 columns]"
      ]
     },
     "execution_count": 7,
     "metadata": {},
     "output_type": "execute_result"
    }
   ],
   "source": [
    "df = df.dropna(subset=[\"Weekly_Sales\"])\n",
    "df"
   ]
  },
  {
   "cell_type": "markdown",
   "id": "06b847b1-ae5b-4949-a94c-6690628b29d5",
   "metadata": {},
   "source": [
    "### Extracting information from Date column and creating new ones"
   ]
  },
  {
   "cell_type": "code",
   "execution_count": 8,
   "id": "bfd2a91d-34f7-4e88-8857-7acfe5f3d779",
   "metadata": {
    "tags": []
   },
   "outputs": [],
   "source": [
    "date_cols = ['Year','Month','Day','Day of the week']\n",
    "df_add = pd.DataFrame(columns=date_cols)\n",
    "df = pd.concat([df,df_add], axis=1)"
   ]
  },
  {
   "cell_type": "code",
   "execution_count": 9,
   "id": "66d5c3cd-9cc3-4b12-82f0-2422b7277f87",
   "metadata": {
    "tags": []
   },
   "outputs": [
    {
     "data": {
      "text/html": [
       "<div>\n",
       "<style scoped>\n",
       "    .dataframe tbody tr th:only-of-type {\n",
       "        vertical-align: middle;\n",
       "    }\n",
       "\n",
       "    .dataframe tbody tr th {\n",
       "        vertical-align: top;\n",
       "    }\n",
       "\n",
       "    .dataframe thead th {\n",
       "        text-align: right;\n",
       "    }\n",
       "</style>\n",
       "<table border=\"1\" class=\"dataframe\">\n",
       "  <thead>\n",
       "    <tr style=\"text-align: right;\">\n",
       "      <th></th>\n",
       "      <th>Store</th>\n",
       "      <th>Date</th>\n",
       "      <th>Weekly_Sales</th>\n",
       "      <th>Holiday_Flag</th>\n",
       "      <th>Temperature</th>\n",
       "      <th>Fuel_Price</th>\n",
       "      <th>CPI</th>\n",
       "      <th>Unemployment</th>\n",
       "      <th>Year</th>\n",
       "      <th>Month</th>\n",
       "      <th>Day</th>\n",
       "      <th>Day of the week</th>\n",
       "    </tr>\n",
       "  </thead>\n",
       "  <tbody>\n",
       "    <tr>\n",
       "      <th>0</th>\n",
       "      <td>6.0</td>\n",
       "      <td>18-02-2011</td>\n",
       "      <td>1572117.54</td>\n",
       "      <td>NaN</td>\n",
       "      <td>59.61</td>\n",
       "      <td>3.045</td>\n",
       "      <td>214.777523</td>\n",
       "      <td>6.858</td>\n",
       "      <td>NaN</td>\n",
       "      <td>NaN</td>\n",
       "      <td>NaN</td>\n",
       "      <td>NaN</td>\n",
       "    </tr>\n",
       "    <tr>\n",
       "      <th>1</th>\n",
       "      <td>13.0</td>\n",
       "      <td>25-03-2011</td>\n",
       "      <td>1807545.43</td>\n",
       "      <td>0.0</td>\n",
       "      <td>42.38</td>\n",
       "      <td>3.435</td>\n",
       "      <td>128.616064</td>\n",
       "      <td>7.470</td>\n",
       "      <td>NaN</td>\n",
       "      <td>NaN</td>\n",
       "      <td>NaN</td>\n",
       "      <td>NaN</td>\n",
       "    </tr>\n",
       "    <tr>\n",
       "      <th>3</th>\n",
       "      <td>11.0</td>\n",
       "      <td>NaN</td>\n",
       "      <td>1244390.03</td>\n",
       "      <td>0.0</td>\n",
       "      <td>84.57</td>\n",
       "      <td>NaN</td>\n",
       "      <td>214.556497</td>\n",
       "      <td>7.346</td>\n",
       "      <td>NaN</td>\n",
       "      <td>NaN</td>\n",
       "      <td>NaN</td>\n",
       "      <td>NaN</td>\n",
       "    </tr>\n",
       "    <tr>\n",
       "      <th>4</th>\n",
       "      <td>6.0</td>\n",
       "      <td>28-05-2010</td>\n",
       "      <td>1644470.66</td>\n",
       "      <td>0.0</td>\n",
       "      <td>78.89</td>\n",
       "      <td>2.759</td>\n",
       "      <td>212.412888</td>\n",
       "      <td>7.092</td>\n",
       "      <td>NaN</td>\n",
       "      <td>NaN</td>\n",
       "      <td>NaN</td>\n",
       "      <td>NaN</td>\n",
       "    </tr>\n",
       "    <tr>\n",
       "      <th>5</th>\n",
       "      <td>4.0</td>\n",
       "      <td>28-05-2010</td>\n",
       "      <td>1857533.70</td>\n",
       "      <td>0.0</td>\n",
       "      <td>NaN</td>\n",
       "      <td>2.756</td>\n",
       "      <td>126.160226</td>\n",
       "      <td>7.896</td>\n",
       "      <td>NaN</td>\n",
       "      <td>NaN</td>\n",
       "      <td>NaN</td>\n",
       "      <td>NaN</td>\n",
       "    </tr>\n",
       "  </tbody>\n",
       "</table>\n",
       "</div>"
      ],
      "text/plain": [
       "   Store        Date  Weekly_Sales  Holiday_Flag  Temperature  Fuel_Price  \\\n",
       "0    6.0  18-02-2011    1572117.54           NaN        59.61       3.045   \n",
       "1   13.0  25-03-2011    1807545.43           0.0        42.38       3.435   \n",
       "3   11.0         NaN    1244390.03           0.0        84.57         NaN   \n",
       "4    6.0  28-05-2010    1644470.66           0.0        78.89       2.759   \n",
       "5    4.0  28-05-2010    1857533.70           0.0          NaN       2.756   \n",
       "\n",
       "          CPI  Unemployment Year Month  Day Day of the week  \n",
       "0  214.777523         6.858  NaN   NaN  NaN             NaN  \n",
       "1  128.616064         7.470  NaN   NaN  NaN             NaN  \n",
       "3  214.556497         7.346  NaN   NaN  NaN             NaN  \n",
       "4  212.412888         7.092  NaN   NaN  NaN             NaN  \n",
       "5  126.160226         7.896  NaN   NaN  NaN             NaN  "
      ]
     },
     "execution_count": 9,
     "metadata": {},
     "output_type": "execute_result"
    }
   ],
   "source": [
    "df.head()"
   ]
  },
  {
   "cell_type": "markdown",
   "id": "325e07e6-df62-4903-bcec-6599d5db2a87",
   "metadata": {},
   "source": [
    "### Converting Temperatures from Fahrenheit to Celsius"
   ]
  },
  {
   "cell_type": "code",
   "execution_count": 10,
   "id": "89c79401-7bc2-4b28-a296-1691b6ee2d13",
   "metadata": {
    "tags": []
   },
   "outputs": [],
   "source": [
    "df['Temperature'] = ((df['Temperature']-32)/1.8)"
   ]
  },
  {
   "cell_type": "markdown",
   "id": "4eb47f7b-f0e2-4e28-9050-bb474f5e780b",
   "metadata": {},
   "source": [
    "### Drop rows where Date isNull"
   ]
  },
  {
   "cell_type": "code",
   "execution_count": 11,
   "id": "718cf3f5-f010-4a59-97c1-ef1c2c50a715",
   "metadata": {
    "tags": []
   },
   "outputs": [
    {
     "name": "stdout",
     "output_type": "stream",
     "text": [
      "Dropping empty Date rows...\n",
      "...Done\n",
      "Rows remaining in df : 118\n"
     ]
    }
   ],
   "source": [
    "print(\"Dropping empty Date rows...\")\n",
    "df.dropna(subset = ['Date'], inplace=True)\n",
    "print(\"...Done\")\n",
    "\n",
    "# Rows remaining in df \n",
    "print(\"Rows remaining in df : {}\".format(df.shape[0]))"
   ]
  },
  {
   "cell_type": "code",
   "execution_count": 12,
   "id": "935af50f-5c1e-4acf-8ca4-8248a4316f72",
   "metadata": {
    "tags": []
   },
   "outputs": [
    {
     "data": {
      "text/plain": [
       "(118, 12)"
      ]
     },
     "execution_count": 12,
     "metadata": {},
     "output_type": "execute_result"
    }
   ],
   "source": [
    "df.shape"
   ]
  },
  {
   "cell_type": "markdown",
   "id": "c068c5f3-7832-49cc-b326-f4efd21f4b98",
   "metadata": {},
   "source": [
    "### Converting Date values into Datetime format"
   ]
  },
  {
   "cell_type": "code",
   "execution_count": 13,
   "id": "c951daf8-acda-4cc4-9716-69076e666825",
   "metadata": {
    "tags": []
   },
   "outputs": [],
   "source": [
    "df[\"Date\"] = pd.to_datetime(df[\"Date\"], dayfirst=True, format='%d-%m-%Y')"
   ]
  },
  {
   "cell_type": "code",
   "execution_count": 14,
   "id": "179dbe33-bb4c-4879-8aca-11d4b9045b65",
   "metadata": {
    "tags": []
   },
   "outputs": [],
   "source": [
    "df[\"Year\"] = df[\"Date\"].dt.year\n",
    "df[\"Month\"] = df[\"Date\"].dt.month\n",
    "df[\"Day\"] = df[\"Date\"].dt.day\n",
    "df[\"Day of the week\"] = df[\"Date\"].dt.day_name()"
   ]
  },
  {
   "cell_type": "code",
   "execution_count": 15,
   "id": "5438559e-0349-47bf-9ef5-f0df4e490700",
   "metadata": {
    "tags": []
   },
   "outputs": [],
   "source": [
    "# Removing .0 in dates columns\n",
    "df['Year'] = [str(y).replace('.0','') for y in df['Year']]\n",
    "df['Month'] = [str(m).replace('.0','') for m in df['Month']]\n",
    "df['Day'] = [str(d).replace('.0','') for d in df['Day']]"
   ]
  },
  {
   "cell_type": "code",
   "execution_count": 16,
   "id": "9ff8f098-0e63-48be-ac79-e554360af0cd",
   "metadata": {
    "tags": []
   },
   "outputs": [],
   "source": [
    "# Converting types of dates columns\n",
    "df['Year']=df['Year'].astype('int')\n",
    "df['Month']=df['Month'].astype('int')\n",
    "df['Day']=df['Day'].astype('int')"
   ]
  },
  {
   "cell_type": "code",
   "execution_count": 17,
   "id": "0fc20cdf-3180-4ad4-adcd-9aa65a9aee48",
   "metadata": {
    "tags": []
   },
   "outputs": [
    {
     "data": {
      "text/html": [
       "<div>\n",
       "<style scoped>\n",
       "    .dataframe tbody tr th:only-of-type {\n",
       "        vertical-align: middle;\n",
       "    }\n",
       "\n",
       "    .dataframe tbody tr th {\n",
       "        vertical-align: top;\n",
       "    }\n",
       "\n",
       "    .dataframe thead th {\n",
       "        text-align: right;\n",
       "    }\n",
       "</style>\n",
       "<table border=\"1\" class=\"dataframe\">\n",
       "  <thead>\n",
       "    <tr style=\"text-align: right;\">\n",
       "      <th></th>\n",
       "      <th>Store</th>\n",
       "      <th>Date</th>\n",
       "      <th>Holiday_Flag</th>\n",
       "      <th>Temperature</th>\n",
       "      <th>Fuel_Price</th>\n",
       "      <th>CPI</th>\n",
       "      <th>Unemployment</th>\n",
       "      <th>Year</th>\n",
       "      <th>Month</th>\n",
       "      <th>Day</th>\n",
       "      <th>Day of the week</th>\n",
       "      <th>Weekly_Sales</th>\n",
       "    </tr>\n",
       "  </thead>\n",
       "  <tbody>\n",
       "    <tr>\n",
       "      <th>0</th>\n",
       "      <td>6.0</td>\n",
       "      <td>2011-02-18</td>\n",
       "      <td>NaN</td>\n",
       "      <td>15.338889</td>\n",
       "      <td>3.045</td>\n",
       "      <td>214.777523</td>\n",
       "      <td>6.858</td>\n",
       "      <td>2011</td>\n",
       "      <td>2</td>\n",
       "      <td>18</td>\n",
       "      <td>Friday</td>\n",
       "      <td>1572117.54</td>\n",
       "    </tr>\n",
       "    <tr>\n",
       "      <th>1</th>\n",
       "      <td>13.0</td>\n",
       "      <td>2011-03-25</td>\n",
       "      <td>0.0</td>\n",
       "      <td>5.766667</td>\n",
       "      <td>3.435</td>\n",
       "      <td>128.616064</td>\n",
       "      <td>7.470</td>\n",
       "      <td>2011</td>\n",
       "      <td>3</td>\n",
       "      <td>25</td>\n",
       "      <td>Friday</td>\n",
       "      <td>1807545.43</td>\n",
       "    </tr>\n",
       "    <tr>\n",
       "      <th>4</th>\n",
       "      <td>6.0</td>\n",
       "      <td>2010-05-28</td>\n",
       "      <td>0.0</td>\n",
       "      <td>26.050000</td>\n",
       "      <td>2.759</td>\n",
       "      <td>212.412888</td>\n",
       "      <td>7.092</td>\n",
       "      <td>2010</td>\n",
       "      <td>5</td>\n",
       "      <td>28</td>\n",
       "      <td>Friday</td>\n",
       "      <td>1644470.66</td>\n",
       "    </tr>\n",
       "    <tr>\n",
       "      <th>5</th>\n",
       "      <td>4.0</td>\n",
       "      <td>2010-05-28</td>\n",
       "      <td>0.0</td>\n",
       "      <td>NaN</td>\n",
       "      <td>2.756</td>\n",
       "      <td>126.160226</td>\n",
       "      <td>7.896</td>\n",
       "      <td>2010</td>\n",
       "      <td>5</td>\n",
       "      <td>28</td>\n",
       "      <td>Friday</td>\n",
       "      <td>1857533.70</td>\n",
       "    </tr>\n",
       "    <tr>\n",
       "      <th>6</th>\n",
       "      <td>15.0</td>\n",
       "      <td>2011-06-03</td>\n",
       "      <td>0.0</td>\n",
       "      <td>21.000000</td>\n",
       "      <td>4.069</td>\n",
       "      <td>134.855161</td>\n",
       "      <td>7.658</td>\n",
       "      <td>2011</td>\n",
       "      <td>6</td>\n",
       "      <td>3</td>\n",
       "      <td>Friday</td>\n",
       "      <td>695396.19</td>\n",
       "    </tr>\n",
       "    <tr>\n",
       "      <th>...</th>\n",
       "      <td>...</td>\n",
       "      <td>...</td>\n",
       "      <td>...</td>\n",
       "      <td>...</td>\n",
       "      <td>...</td>\n",
       "      <td>...</td>\n",
       "      <td>...</td>\n",
       "      <td>...</td>\n",
       "      <td>...</td>\n",
       "      <td>...</td>\n",
       "      <td>...</td>\n",
       "      <td>...</td>\n",
       "    </tr>\n",
       "    <tr>\n",
       "      <th>144</th>\n",
       "      <td>3.0</td>\n",
       "      <td>2012-10-19</td>\n",
       "      <td>0.0</td>\n",
       "      <td>23.022222</td>\n",
       "      <td>3.594</td>\n",
       "      <td>226.968844</td>\n",
       "      <td>6.034</td>\n",
       "      <td>2012</td>\n",
       "      <td>10</td>\n",
       "      <td>19</td>\n",
       "      <td>Friday</td>\n",
       "      <td>424513.08</td>\n",
       "    </tr>\n",
       "    <tr>\n",
       "      <th>145</th>\n",
       "      <td>14.0</td>\n",
       "      <td>2010-06-18</td>\n",
       "      <td>0.0</td>\n",
       "      <td>22.566667</td>\n",
       "      <td>2.780</td>\n",
       "      <td>182.442420</td>\n",
       "      <td>8.899</td>\n",
       "      <td>2010</td>\n",
       "      <td>6</td>\n",
       "      <td>18</td>\n",
       "      <td>Friday</td>\n",
       "      <td>2248645.59</td>\n",
       "    </tr>\n",
       "    <tr>\n",
       "      <th>147</th>\n",
       "      <td>17.0</td>\n",
       "      <td>2010-06-11</td>\n",
       "      <td>0.0</td>\n",
       "      <td>13.966667</td>\n",
       "      <td>2.841</td>\n",
       "      <td>126.111903</td>\n",
       "      <td>NaN</td>\n",
       "      <td>2010</td>\n",
       "      <td>6</td>\n",
       "      <td>11</td>\n",
       "      <td>Friday</td>\n",
       "      <td>845252.21</td>\n",
       "    </tr>\n",
       "    <tr>\n",
       "      <th>148</th>\n",
       "      <td>8.0</td>\n",
       "      <td>2011-08-12</td>\n",
       "      <td>0.0</td>\n",
       "      <td>30.027778</td>\n",
       "      <td>3.638</td>\n",
       "      <td>219.007525</td>\n",
       "      <td>NaN</td>\n",
       "      <td>2011</td>\n",
       "      <td>8</td>\n",
       "      <td>12</td>\n",
       "      <td>Friday</td>\n",
       "      <td>856796.10</td>\n",
       "    </tr>\n",
       "    <tr>\n",
       "      <th>149</th>\n",
       "      <td>19.0</td>\n",
       "      <td>2012-04-20</td>\n",
       "      <td>0.0</td>\n",
       "      <td>12.888889</td>\n",
       "      <td>4.170</td>\n",
       "      <td>137.923067</td>\n",
       "      <td>8.150</td>\n",
       "      <td>2012</td>\n",
       "      <td>4</td>\n",
       "      <td>20</td>\n",
       "      <td>Friday</td>\n",
       "      <td>1255087.26</td>\n",
       "    </tr>\n",
       "  </tbody>\n",
       "</table>\n",
       "<p>118 rows × 12 columns</p>\n",
       "</div>"
      ],
      "text/plain": [
       "     Store       Date  Holiday_Flag  Temperature  Fuel_Price         CPI  \\\n",
       "0      6.0 2011-02-18           NaN    15.338889       3.045  214.777523   \n",
       "1     13.0 2011-03-25           0.0     5.766667       3.435  128.616064   \n",
       "4      6.0 2010-05-28           0.0    26.050000       2.759  212.412888   \n",
       "5      4.0 2010-05-28           0.0          NaN       2.756  126.160226   \n",
       "6     15.0 2011-06-03           0.0    21.000000       4.069  134.855161   \n",
       "..     ...        ...           ...          ...         ...         ...   \n",
       "144    3.0 2012-10-19           0.0    23.022222       3.594  226.968844   \n",
       "145   14.0 2010-06-18           0.0    22.566667       2.780  182.442420   \n",
       "147   17.0 2010-06-11           0.0    13.966667       2.841  126.111903   \n",
       "148    8.0 2011-08-12           0.0    30.027778       3.638  219.007525   \n",
       "149   19.0 2012-04-20           0.0    12.888889       4.170  137.923067   \n",
       "\n",
       "     Unemployment  Year  Month  Day Day of the week  Weekly_Sales  \n",
       "0           6.858  2011      2   18          Friday    1572117.54  \n",
       "1           7.470  2011      3   25          Friday    1807545.43  \n",
       "4           7.092  2010      5   28          Friday    1644470.66  \n",
       "5           7.896  2010      5   28          Friday    1857533.70  \n",
       "6           7.658  2011      6    3          Friday     695396.19  \n",
       "..            ...   ...    ...  ...             ...           ...  \n",
       "144         6.034  2012     10   19          Friday     424513.08  \n",
       "145         8.899  2010      6   18          Friday    2248645.59  \n",
       "147           NaN  2010      6   11          Friday     845252.21  \n",
       "148           NaN  2011      8   12          Friday     856796.10  \n",
       "149         8.150  2012      4   20          Friday    1255087.26  \n",
       "\n",
       "[118 rows x 12 columns]"
      ]
     },
     "execution_count": 17,
     "metadata": {},
     "output_type": "execute_result"
    }
   ],
   "source": [
    "# Moving the future Y column to predict at the end of the dataset for future convenience\n",
    "df = df.loc[:,['Store', 'Date', 'Holiday_Flag', 'Temperature',\n",
    "       'Fuel_Price', 'CPI', 'Unemployment', 'Year', 'Month', 'Day',\n",
    "       'Day of the week','Weekly_Sales']]\n",
    "df"
   ]
  },
  {
   "cell_type": "markdown",
   "id": "3b189f65-8e1f-43dc-a25e-37ec4169b5dd",
   "metadata": {},
   "source": [
    "### Dropping outliers"
   ]
  },
  {
   "cell_type": "code",
   "execution_count": 18,
   "id": "06d022bd-93d6-41e4-ad9f-4fcf904b6aae",
   "metadata": {
    "tags": []
   },
   "outputs": [
    {
     "name": "stdout",
     "output_type": "stream",
     "text": [
      "***** Outliers in Temperature *****\n",
      "\n",
      "Number of outliers to drop :  0\n",
      "\n",
      "***** Outliers in Unemployment *****\n",
      "\n",
      "Number of outliers to drop :  5\n",
      "\n",
      "***** Outliers in Fuel_Price *****\n",
      "\n",
      "Number of outliers to drop :  0\n",
      "\n",
      "***** Outliers in CPI *****\n",
      "\n",
      "Number of outliers to drop :  0\n"
     ]
    }
   ],
   "source": [
    "print('***** Outliers in Temperature *****')\n",
    "upper_border = df['Temperature'].mean() + 3*df['Temperature'].std()\n",
    "lower_border = df['Temperature'].mean() - 3*df['Temperature'].std()\n",
    "print()\n",
    "print('Number of outliers to drop : ', (df.loc[(df['Temperature']<lower_border) | (df['Temperature']>upper_border)].shape[0]))\n",
    "\n",
    "print()\n",
    "print('***** Outliers in Unemployment *****')\n",
    "upper_border = df['Unemployment'].mean() + 3*df['Unemployment'].std()\n",
    "lower_border = df['Unemployment'].mean() - 3*df['Unemployment'].std()\n",
    "print()\n",
    "\n",
    "print('Number of outliers to drop : ', (df.loc[(df['Unemployment']<lower_border) | (df['Unemployment']>upper_border)].shape[0]))\n",
    "print()\n",
    "print('***** Outliers in Fuel_Price *****')\n",
    "upper_border = df['Fuel_Price'].mean() + 3*df['Fuel_Price'].std()\n",
    "lower_border = df['Fuel_Price'].mean() - 3*df['Fuel_Price'].std()\n",
    "print()\n",
    "\n",
    "print('Number of outliers to drop : ', (df.loc[(df['Fuel_Price']<lower_border) | (df['Fuel_Price']>upper_border)].shape[0]))\n",
    "print()\n",
    "\n",
    "print('***** Outliers in CPI *****')\n",
    "upper_border = df['CPI'].mean() + 3*df['CPI'].std()\n",
    "lower_border = df['CPI'].mean() - 3*df['CPI'].std()\n",
    "print()\n",
    "\n",
    "print('Number of outliers to drop : ', (df.loc[(df['CPI']<lower_border) | (df['CPI']>upper_border)].shape[0]))\n"
   ]
  },
  {
   "cell_type": "markdown",
   "id": "8a53bbdc-3e7d-4201-a66f-f8c00f58c5c0",
   "metadata": {
    "tags": []
   },
   "source": [
    "<br/>\n",
    "\n",
    "**Unemployment column is the only column that gets outliers to drop**"
   ]
  },
  {
   "cell_type": "code",
   "execution_count": 19,
   "id": "285f0ee7-4c9a-4820-944a-2c3eaa025194",
   "metadata": {
    "tags": []
   },
   "outputs": [
    {
     "data": {
      "text/plain": [
       "(113, 12)"
      ]
     },
     "execution_count": 19,
     "metadata": {},
     "output_type": "execute_result"
    }
   ],
   "source": [
    "# Creating upper and lower border\n",
    "upper_border = df['Unemployment'].mean() + 3*df['Unemployment'].std()\n",
    "lower_border = df['Unemployment'].mean() - 3*df['Unemployment'].std()\n",
    "\n",
    "# Dropping outliers of Unemployment\n",
    "df=df.drop(df.loc[(df['Unemployment'] <= lower_border) | (df['Unemployment'] >= upper_border)].index)\n",
    "\n",
    "#New shape after removal\n",
    "df.shape "
   ]
  },
  {
   "cell_type": "code",
   "execution_count": 20,
   "id": "f3d5d6c3-b570-44c7-aad9-784c661b2f3f",
   "metadata": {
    "tags": []
   },
   "outputs": [
    {
     "data": {
      "text/html": [
       "<div>\n",
       "<style scoped>\n",
       "    .dataframe tbody tr th:only-of-type {\n",
       "        vertical-align: middle;\n",
       "    }\n",
       "\n",
       "    .dataframe tbody tr th {\n",
       "        vertical-align: top;\n",
       "    }\n",
       "\n",
       "    .dataframe thead th {\n",
       "        text-align: right;\n",
       "    }\n",
       "</style>\n",
       "<table border=\"1\" class=\"dataframe\">\n",
       "  <thead>\n",
       "    <tr style=\"text-align: right;\">\n",
       "      <th></th>\n",
       "      <th>Store</th>\n",
       "      <th>Date</th>\n",
       "      <th>Holiday_Flag</th>\n",
       "      <th>Temperature</th>\n",
       "      <th>Fuel_Price</th>\n",
       "      <th>CPI</th>\n",
       "      <th>Unemployment</th>\n",
       "      <th>Year</th>\n",
       "      <th>Month</th>\n",
       "      <th>Day</th>\n",
       "      <th>Day of the week</th>\n",
       "      <th>Weekly_Sales</th>\n",
       "    </tr>\n",
       "  </thead>\n",
       "  <tbody>\n",
       "    <tr>\n",
       "      <th>0</th>\n",
       "      <td>6.0</td>\n",
       "      <td>2011-02-18</td>\n",
       "      <td>NaN</td>\n",
       "      <td>15.338889</td>\n",
       "      <td>3.045</td>\n",
       "      <td>214.777523</td>\n",
       "      <td>6.858</td>\n",
       "      <td>2011</td>\n",
       "      <td>2</td>\n",
       "      <td>18</td>\n",
       "      <td>Friday</td>\n",
       "      <td>1572117.54</td>\n",
       "    </tr>\n",
       "    <tr>\n",
       "      <th>1</th>\n",
       "      <td>13.0</td>\n",
       "      <td>2011-03-25</td>\n",
       "      <td>0.0</td>\n",
       "      <td>5.766667</td>\n",
       "      <td>3.435</td>\n",
       "      <td>128.616064</td>\n",
       "      <td>7.470</td>\n",
       "      <td>2011</td>\n",
       "      <td>3</td>\n",
       "      <td>25</td>\n",
       "      <td>Friday</td>\n",
       "      <td>1807545.43</td>\n",
       "    </tr>\n",
       "    <tr>\n",
       "      <th>4</th>\n",
       "      <td>6.0</td>\n",
       "      <td>2010-05-28</td>\n",
       "      <td>0.0</td>\n",
       "      <td>26.050000</td>\n",
       "      <td>2.759</td>\n",
       "      <td>212.412888</td>\n",
       "      <td>7.092</td>\n",
       "      <td>2010</td>\n",
       "      <td>5</td>\n",
       "      <td>28</td>\n",
       "      <td>Friday</td>\n",
       "      <td>1644470.66</td>\n",
       "    </tr>\n",
       "    <tr>\n",
       "      <th>5</th>\n",
       "      <td>4.0</td>\n",
       "      <td>2010-05-28</td>\n",
       "      <td>0.0</td>\n",
       "      <td>NaN</td>\n",
       "      <td>2.756</td>\n",
       "      <td>126.160226</td>\n",
       "      <td>7.896</td>\n",
       "      <td>2010</td>\n",
       "      <td>5</td>\n",
       "      <td>28</td>\n",
       "      <td>Friday</td>\n",
       "      <td>1857533.70</td>\n",
       "    </tr>\n",
       "    <tr>\n",
       "      <th>6</th>\n",
       "      <td>15.0</td>\n",
       "      <td>2011-06-03</td>\n",
       "      <td>0.0</td>\n",
       "      <td>21.000000</td>\n",
       "      <td>4.069</td>\n",
       "      <td>134.855161</td>\n",
       "      <td>7.658</td>\n",
       "      <td>2011</td>\n",
       "      <td>6</td>\n",
       "      <td>3</td>\n",
       "      <td>Friday</td>\n",
       "      <td>695396.19</td>\n",
       "    </tr>\n",
       "  </tbody>\n",
       "</table>\n",
       "</div>"
      ],
      "text/plain": [
       "   Store       Date  Holiday_Flag  Temperature  Fuel_Price         CPI  \\\n",
       "0    6.0 2011-02-18           NaN    15.338889       3.045  214.777523   \n",
       "1   13.0 2011-03-25           0.0     5.766667       3.435  128.616064   \n",
       "4    6.0 2010-05-28           0.0    26.050000       2.759  212.412888   \n",
       "5    4.0 2010-05-28           0.0          NaN       2.756  126.160226   \n",
       "6   15.0 2011-06-03           0.0    21.000000       4.069  134.855161   \n",
       "\n",
       "   Unemployment  Year  Month  Day Day of the week  Weekly_Sales  \n",
       "0         6.858  2011      2   18          Friday    1572117.54  \n",
       "1         7.470  2011      3   25          Friday    1807545.43  \n",
       "4         7.092  2010      5   28          Friday    1644470.66  \n",
       "5         7.896  2010      5   28          Friday    1857533.70  \n",
       "6         7.658  2011      6    3          Friday     695396.19  "
      ]
     },
     "execution_count": 20,
     "metadata": {},
     "output_type": "execute_result"
    }
   ],
   "source": [
    "df.head()"
   ]
  },
  {
   "cell_type": "code",
   "execution_count": 21,
   "id": "ef8a0926-6f43-4525-aa00-bd5cf8b4e60f",
   "metadata": {
    "tags": []
   },
   "outputs": [
    {
     "data": {
      "text/plain": [
       "array(['Friday'], dtype=object)"
      ]
     },
     "execution_count": 21,
     "metadata": {},
     "output_type": "execute_result"
    }
   ],
   "source": [
    "df['Day of the week'].unique()"
   ]
  },
  {
   "cell_type": "markdown",
   "id": "1b9c78fd-f4d5-43c3-83e7-8c58c37a9657",
   "metadata": {
    "tags": []
   },
   "source": [
    "**The column 'Day of the week' only get one variable ('Friday'). It's not useful for the model to get patterns. Let's drop it**"
   ]
  },
  {
   "cell_type": "code",
   "execution_count": 22,
   "id": "d5db1d1b-a314-4225-b495-9f8cd4b69b2c",
   "metadata": {
    "tags": []
   },
   "outputs": [],
   "source": [
    "# Removing column Day of the Week\n",
    "df.drop('Day of the week', axis=1, inplace=True)"
   ]
  },
  {
   "cell_type": "code",
   "execution_count": 23,
   "id": "cde2d731-e055-43f3-887e-5ae3cd62f244",
   "metadata": {
    "tags": []
   },
   "outputs": [
    {
     "data": {
      "image/png": "[encoded data removed]",
      "text/plain": [
       "<Figure size 640x480 with 1 Axes>"
      ]
     },
     "metadata": {},
     "output_type": "display_data"
    }
   ],
   "source": [
    "# Plotting sales by store \n",
    "sns.barplot(data = df, x='Store', y='Weekly_Sales', palette='hls')\n",
    "plt.title(\"Weekly sales by store\")\n",
    "plt.xticks(rotation=45)\n",
    "plt.show()"
   ]
  },
  {
   "cell_type": "markdown",
   "id": "2d770cf0-7010-4e60-9daa-b9c4e1c08675",
   "metadata": {},
   "source": [
    "⚠️ **Store 12.0 is missing** : indeed when removing outliers, all of them came from store n°12"
   ]
  },
  {
   "cell_type": "code",
   "execution_count": 24,
   "id": "36200aa6-8301-48af-b8f7-a45dd397b99f",
   "metadata": {
    "tags": []
   },
   "outputs": [
    {
     "data": {
      "image/png": "[encoded data removed]",
      "text/plain": [
       "<Figure size 1200x600 with 1 Axes>"
      ]
     },
     "metadata": {},
     "output_type": "display_data"
    }
   ],
   "source": [
    "#Plotting weekly sales by store\n",
    "plt.figure(figsize=(12,6))\n",
    "fig=sns.lineplot(data=df, x='Month', y='Weekly_Sales', hue='Year', palette ='pastel', errorbar=('ci',95))\n",
    "plt.title('Weeklysales by month',fontweight='bold')\n",
    "plt.xlabel('Month',fontweight='bold')\n",
    "plt.grid()\n",
    "plt.xticks(np.sort(df['Month'].unique()))\n",
    "fig.set_xticklabels(['Jan','Feb','Mar','Apr','May','Jun','Jul','Aug','Sep','Oct','Nov','Dec'])\n",
    "plt.ylabel('Weekly Sales',fontweight='bold')\n",
    "fig;"
   ]
  },
  {
   "cell_type": "markdown",
   "id": "aac5f5af-fe51-4609-9952-f5e4d0cd680a",
   "metadata": {},
   "source": [
    "➡️ December is a very important month. Christmas must have a huge impact  \n",
    "➡️ Summer months (June, July and August) seem to be an important period as well  \n",
    "➡️ On the other hand, spring and fall months are periods with the fewest sales"
   ]
  },
  {
   "cell_type": "code",
   "execution_count": 25,
   "id": "fc3b5a47-99b6-4d4a-ac65-f2bc4a4aa989",
   "metadata": {
    "tags": []
   },
   "outputs": [
    {
     "name": "stderr",
     "output_type": "stream",
     "text": [
      "C:\\Users\\j.lopes\\AppData\\Local\\anaconda\\Lib\\site-packages\\seaborn\\algorithms.py:98: RuntimeWarning: Mean of empty slice\n",
      "  boot_dist.append(f(*sample, **func_kwargs))\n"
     ]
    },
    {
     "data": {
      "image/png": "[encoded data removed]",
      "text/plain": [
       "<Figure size 1000x600 with 1 Axes>"
      ]
     },
     "metadata": {},
     "output_type": "display_data"
    }
   ],
   "source": [
    "#Plotting the evolution of fuel price through the years\n",
    "plt.figure(figsize=(10,6))\n",
    "sns.barplot(data=df,y='Fuel_Price',x=df['Date'].sort_values(ascending=True), hue='Year')\n",
    "plt.title('Evolution of Fuel Price through the years',fontweight='bold')\n",
    "plt.locator_params(axis='x', nbins=10)\n",
    "plt.xlabel('Date',fontweight='bold')\n",
    "plt.ylabel('Fuel Price', fontweight='bold')\n",
    "plt.xticks([])\n",
    "plt.show();"
   ]
  },
  {
   "cell_type": "code",
   "execution_count": 26,
   "id": "ad2b025b-7666-4202-9ace-8a69a545d2fb",
   "metadata": {
    "tags": []
   },
   "outputs": [
    {
     "data": {
      "text/html": [
       "<div>\n",
       "<style scoped>\n",
       "    .dataframe tbody tr th:only-of-type {\n",
       "        vertical-align: middle;\n",
       "    }\n",
       "\n",
       "    .dataframe tbody tr th {\n",
       "        vertical-align: top;\n",
       "    }\n",
       "\n",
       "    .dataframe thead th {\n",
       "        text-align: right;\n",
       "    }\n",
       "</style>\n",
       "<table border=\"1\" class=\"dataframe\">\n",
       "  <thead>\n",
       "    <tr style=\"text-align: right;\">\n",
       "      <th></th>\n",
       "      <th>Fuel_Price</th>\n",
       "    </tr>\n",
       "    <tr>\n",
       "      <th>Year</th>\n",
       "      <th></th>\n",
       "    </tr>\n",
       "  </thead>\n",
       "  <tbody>\n",
       "    <tr>\n",
       "      <th>2010</th>\n",
       "      <td>2.78</td>\n",
       "    </tr>\n",
       "    <tr>\n",
       "      <th>2011</th>\n",
       "      <td>3.57</td>\n",
       "    </tr>\n",
       "    <tr>\n",
       "      <th>2012</th>\n",
       "      <td>3.71</td>\n",
       "    </tr>\n",
       "  </tbody>\n",
       "</table>\n",
       "</div>"
      ],
      "text/plain": [
       "      Fuel_Price\n",
       "Year            \n",
       "2010        2.78\n",
       "2011        3.57\n",
       "2012        3.71"
      ]
     },
     "execution_count": 26,
     "metadata": {},
     "output_type": "execute_result"
    }
   ],
   "source": [
    "#Mean of fuel price per year\n",
    "pd.DataFrame(df.groupby('Year')[\"Fuel_Price\"].mean().round(2))"
   ]
  },
  {
   "cell_type": "markdown",
   "id": "fd983e4e-64ba-451b-b8ed-0d0081b53769",
   "metadata": {
    "tags": []
   },
   "source": [
    "➡️ Overall, we notice a steady increase of the fuel price through the years with almost 1$ raise within 2 years"
   ]
  },
  {
   "cell_type": "code",
   "execution_count": 27,
   "id": "090472d1-c210-4b8c-a1e1-a230f770df82",
   "metadata": {},
   "outputs": [
    {
     "name": "stderr",
     "output_type": "stream",
     "text": [
      "C:\\Users\\j.lopes\\AppData\\Local\\anaconda\\Lib\\site-packages\\seaborn\\axisgrid.py:118: UserWarning: The figure layout has changed to tight\n",
      "  self._figure.tight_layout(*args, **kwargs)\n"
     ]
    },
    {
     "data": {
      "image/png": "[encoded data removed]",
      "text/plain": [
       "<Figure size 974.389x500 with 1 Axes>"
      ]
     },
     "metadata": {},
     "output_type": "display_data"
    }
   ],
   "source": [
    "# Plotting Weekly sales by Temperature and through years\n",
    "sns.lmplot(data=df,y='Weekly_Sales',x='Temperature', hue='Year',aspect=16/9)\n",
    "plt.show();"
   ]
  },
  {
   "cell_type": "code",
   "execution_count": 28,
   "id": "83a42aa5-1590-4a24-9cb9-b56ef29802f5",
   "metadata": {
    "tags": []
   },
   "outputs": [
    {
     "data": {
      "image/png": "[encoded data removed]",
      "text/plain": [
       "<Figure size 640x480 with 2 Axes>"
      ]
     },
     "metadata": {},
     "output_type": "display_data"
    }
   ],
   "source": [
    "# Correlation matrix\n",
    "mask = np.triu(np.ones_like(df.corr(numeric_only=True), dtype=bool)) #Upper mask\n",
    "sns.heatmap(round(df.corr(numeric_only=True),2), mask=mask,annot=True);"
   ]
  },
  {
   "cell_type": "code",
   "execution_count": 29,
   "id": "acda5397-bc07-4236-8919-8ab085f4b1ad",
   "metadata": {
    "tags": []
   },
   "outputs": [
    {
     "data": {
      "image/png": "[encoded data removed]",
      "text/plain": [
       "<Figure size 1000x600 with 1 Axes>"
      ]
     },
     "metadata": {},
     "output_type": "display_data"
    }
   ],
   "source": [
    "# Plotting Unemployment through the years\n",
    "plt.figure(figsize=(10,6))\n",
    "sns.lineplot(data=df,x='Date',y='Unemployment',hue='Year')\n",
    "plt.show()"
   ]
  },
  {
   "cell_type": "markdown",
   "id": "6266bd9e-c056-420c-aced-fdcef2df87bc",
   "metadata": {
    "tags": []
   },
   "source": [
    "# 2.MODELING"
   ]
  },
  {
   "cell_type": "markdown",
   "id": "0ade1f40-73f5-4e6e-98e2-af75fcacf361",
   "metadata": {
    "jp-MarkdownHeadingCollapsed": true,
    "tags": []
   },
   "source": [
    "- ## 2.1 Preprocessing"
   ]
  },
  {
   "cell_type": "code",
   "execution_count": 31,
   "id": "e090cb22-3861-4338-8e5f-09a3eb489013",
   "metadata": {
    "tags": []
   },
   "outputs": [],
   "source": [
    "#Dropping the Date column\n",
    "df.drop('Date',axis=1, inplace=True)"
   ]
  },
  {
   "cell_type": "code",
   "execution_count": 32,
   "id": "62846d04-fc11-411e-8e4a-5e4f3702641a",
   "metadata": {
    "colab": {
     "base_uri": "https://localhost:8080/",
     "height": 319
    },
    "colab_type": "code",
    "id": "Zn2MYjTjrfBJ",
    "outputId": "720c974a-fdfd-4544-c188-229008b33351",
    "tags": []
   },
   "outputs": [
    {
     "name": "stdout",
     "output_type": "stream",
     "text": [
      "Splitting dataset into X and y...\n",
      "...Done.\n",
      "\n",
      "Y : \n",
      "0    1572117.54\n",
      "1    1807545.43\n",
      "4    1644470.66\n",
      "5    1857533.70\n",
      "6     695396.19\n",
      "Name: Weekly_Sales, dtype: float64\n",
      "\n",
      "X :\n",
      "   Store  Holiday_Flag  Temperature  Fuel_Price         CPI  Unemployment  \\\n",
      "0    6.0           NaN    15.338889       3.045  214.777523         6.858   \n",
      "1   13.0           0.0     5.766667       3.435  128.616064         7.470   \n",
      "4    6.0           0.0    26.050000       2.759  212.412888         7.092   \n",
      "5    4.0           0.0          NaN       2.756  126.160226         7.896   \n",
      "6   15.0           0.0    21.000000       4.069  134.855161         7.658   \n",
      "\n",
      "   Year  Month  Day  \n",
      "0  2011      2   18  \n",
      "1  2011      3   25  \n",
      "4  2010      5   28  \n",
      "5  2010      5   28  \n",
      "6  2011      6    3  \n"
     ]
    }
   ],
   "source": [
    "print(\"Splitting dataset into X and y...\")\n",
    "X = df.iloc[:,:-1] # We select all columns except our TARGET variable\n",
    "\n",
    "Y = df.iloc[:,-1] # We only select our target variable\n",
    "print(\"...Done.\")\n",
    "print()\n",
    "\n",
    "print('Y : ')\n",
    "print(Y.head())\n",
    "print()\n",
    "print('X :')\n",
    "print(X.head())"
   ]
  },
  {
   "cell_type": "code",
   "execution_count": 33,
   "id": "4d7a5a73-c0b9-4083-92c7-2ebb158bb2f8",
   "metadata": {
    "tags": []
   },
   "outputs": [
    {
     "name": "stdout",
     "output_type": "stream",
     "text": [
      "Dividing into train and test sets...\n",
      "...Done.\n",
      "\n"
     ]
    }
   ],
   "source": [
    "# Divide dataset Train set & Test set \n",
    "print(\"Dividing into train and test sets...\")\n",
    "X_train, X_test, Y_train, Y_test = train_test_split(X, Y, test_size=0.2, random_state=0)\n",
    "print(\"...Done.\")\n",
    "print()"
   ]
  },
  {
   "cell_type": "code",
   "execution_count": 35,
   "id": "063b897e-4be2-488e-9508-22133f12c018",
   "metadata": {
    "tags": []
   },
   "outputs": [],
   "source": [
    "# Create pipeline for numeric features\n",
    "numeric_features = ['Temperature', 'Fuel_Price', 'CPI', 'Unemployment','Year','Month','Day'] # Names of numeric columns in X_train/X_test\n",
    "numeric_transformer = Pipeline(steps=[\n",
    "    ('imputer', SimpleImputer(strategy='median')), # missing values will be replaced by columns' median\n",
    "    ('scaler', StandardScaler())\n",
    "])\n",
    "\n",
    "# Create pipeline for categorical features\n",
    "categorical_features = ['Store', 'Holiday_Flag'] # Names of categorical columns in X_train/X_test\n",
    "categorical_transformer = Pipeline(\n",
    "    steps=[\n",
    "    ('imputer', SimpleImputer(strategy='most_frequent')), # missing values will be replaced by most frequent value\n",
    "    ('encoder', OneHotEncoder(drop='first')) # first column will be dropped to avoid creating correlations between features\n",
    "    ])"
   ]
  },
  {
   "cell_type": "code",
   "execution_count": 36,
   "id": "82dca2a5-58d2-4e91-bcfa-666db1b595f3",
   "metadata": {
    "tags": []
   },
   "outputs": [],
   "source": [
    "# Use ColumnTransformer to make a preprocessor object that describes all the treatments to be done\n",
    "preprocessor = ColumnTransformer(\n",
    "    transformers=[\n",
    "        ('cat', categorical_transformer, categorical_features),\n",
    "        ('num', numeric_transformer, numeric_features)\n",
    "        \n",
    "    ])"
   ]
  },
  {
   "cell_type": "code",
   "execution_count": 37,
   "id": "19803294-073d-4c9e-b17f-58af5fdb766e",
   "metadata": {
    "tags": []
   },
   "outputs": [
    {
     "name": "stdout",
     "output_type": "stream",
     "text": [
      "Performing preprocessings on train set...\n",
      "     Store  Holiday_Flag  Temperature  Fuel_Price         CPI  Unemployment  \\\n",
      "52     9.0           0.0    29.455556       2.653  214.896576           NaN   \n",
      "11    18.0           0.0    11.122222       2.878  132.763355         9.331   \n",
      "105   19.0           0.0    22.683333       2.932  132.598387         8.099   \n",
      "110   20.0           1.0    -1.750000       3.179  204.643227         7.484   \n",
      "75    20.0           0.0    23.983333       2.808  204.567546         7.856   \n",
      "\n",
      "     Year  Month  Day  \n",
      "52   2010      6   25  \n",
      "11   2010     10   15  \n",
      "105  2010      7   30  \n",
      "110  2010     12   31  \n",
      "75   2010      6   25  \n",
      "...Done.\n",
      "[[ 0.          0.          0.          0.          0.          0.\n",
      "   0.          1.          0.          0.          0.          0.\n",
      "   0.          0.          0.          0.          0.          0.\n",
      "   0.          1.52509498 -1.37012974  0.95928786  0.12672055 -1.05558715\n",
      "  -0.02760328  1.01737744]\n",
      " [ 0.          0.          0.          0.          0.          0.\n",
      "   0.          0.          0.          0.          0.          0.\n",
      "   0.          0.          0.          1.          0.          0.\n",
      "   0.         -0.41944433 -0.88020148 -1.17615679  2.07014781 -1.05558715\n",
      "   1.2145443  -0.16105203]\n",
      " [ 0.          0.          0.          0.          0.          0.\n",
      "   0.          0.          0.          0.          0.          0.\n",
      "   0.          0.          0.          0.          1.          0.\n",
      "   0.          0.80679394 -0.7626187  -1.18044591  0.72955297 -1.05558715\n",
      "   0.28293362  1.60659218]\n",
      " [ 0.          0.          0.          0.          0.          0.\n",
      "   0.          0.          0.          0.          0.          0.\n",
      "   0.          0.          0.          0.          0.          1.\n",
      "   1.         -1.78474663 -0.22478634  0.69270317  0.06034369 -1.05558715\n",
      "   1.83561809  1.72443512]\n",
      " [ 0.          0.          0.          0.          0.          0.\n",
      "   0.          0.          0.          0.          0.          0.\n",
      "   0.          0.          0.          0.          0.          1.\n",
      "   0.          0.94467946 -1.0326236   0.69073549  0.4651337  -1.05558715\n",
      "  -0.02760328  1.01737744]]\n",
      "\n",
      "Performing preprocessings on test set...\n",
      "     Store  Holiday_Flag  Temperature  Fuel_Price         CPI  Unemployment  \\\n",
      "141    5.0           0.0    16.872222         NaN  212.560411         6.768   \n",
      "13     1.0           0.0    18.188889       3.734  221.211813         7.348   \n",
      "29     6.0           0.0          NaN       3.523  217.270654         6.925   \n",
      "10     8.0           0.0    28.288889       3.554  219.070197         6.425   \n",
      "144    3.0           0.0    23.022222       3.594  226.968844         6.034   \n",
      "\n",
      "     Year  Month  Day  \n",
      "141  2010     11   12  \n",
      "13   2012      3   16  \n",
      "29   2011      8   26  \n",
      "10   2011      8   19  \n",
      "144  2012     10   19  \n",
      "...Done.\n",
      "[[ 0.          0.          0.          1.          0.          0.\n",
      "   0.          0.          0.          0.          0.          0.\n",
      "   0.          0.          0.          0.          0.          0.\n",
      "   0.          0.19043391  0.03215381  0.89854813 -0.71876824 -1.05558715\n",
      "   1.5250812  -0.51458087]\n",
      " [ 0.          0.          0.          0.          0.          0.\n",
      "   0.          0.          0.          0.          0.          0.\n",
      "   0.          0.          0.          0.          0.          0.\n",
      "   0.          0.33008718  0.98370336  1.12348257 -0.08764405  1.41201918\n",
      "  -0.95921397 -0.04320908]\n",
      " [ 0.          0.          0.          0.          1.          0.\n",
      "   0.          0.          0.          0.          0.          0.\n",
      "   0.          0.          0.          0.          0.          0.\n",
      "   0.          0.02779971  0.52425953  1.02101335 -0.54792945  0.17821601\n",
      "   0.59347051  1.13522039]\n",
      " [ 0.          0.          0.          0.          0.          0.\n",
      "   1.          0.          0.          0.          0.          0.\n",
      "   0.          0.          0.          0.          0.          0.\n",
      "   0.          1.40135157  0.59176075  1.06780104 -1.09200203  0.17821601\n",
      "   0.59347051  0.31031976]\n",
      " [ 0.          1.          0.          0.          0.          0.\n",
      "   0.          0.          0.          0.          0.          0.\n",
      "   0.          0.          0.          0.          0.          0.\n",
      "   0.          0.84273846  0.67885911  1.27316403 -1.51746679  1.41201918\n",
      "   1.2145443   0.31031976]]\n",
      "\n"
     ]
    }
   ],
   "source": [
    "# Preprocessings on train set\n",
    "print(\"Performing preprocessings on train set...\")\n",
    "print(X_train.head())\n",
    "X_train = preprocessor.fit_transform(X_train)\n",
    "print('...Done.')\n",
    "print(X_train[0:5]) # MUST use this syntax because X_train is a numpy array and not a pandas DataFrame anymore\n",
    "print()\n",
    "\n",
    "# Preprocessings on test set\n",
    "print(\"Performing preprocessings on test set...\")\n",
    "print(X_test.head()) \n",
    "X_test = preprocessor.transform(X_test) # Don't fit again !! The test set is used for validating decisions\n",
    "# we made based on the training set, therefore we can only apply transformations that were parametered using the training set.\n",
    "# Otherwise this creates what is called a leak from the test set which will introduce a bias in all your results.\n",
    "print('...Done.')\n",
    "print(X_test[0:5,:]) # MUST use this syntax because X_test is a numpy array and not a pandas DataFrame anymore\n",
    "print()"
   ]
  },
  {
   "cell_type": "markdown",
   "id": "0f2f3c79-ad76-410e-9935-eab97576af61",
   "metadata": {
    "tags": []
   },
   "source": [
    "- ## 2.2 Train model"
   ]
  },
  {
   "cell_type": "code",
   "execution_count": 38,
   "id": "3956f7bf-ac7d-4c98-b32a-6956b527f0c0",
   "metadata": {
    "colab": {
     "base_uri": "https://localhost:8080/",
     "height": 50
    },
    "colab_type": "code",
    "id": "fKv5JHVozdpd",
    "outputId": "27248696-e55a-4cb2-d947-29893f42f42d",
    "tags": []
   },
   "outputs": [
    {
     "name": "stdout",
     "output_type": "stream",
     "text": [
      "Train model...\n",
      "...Done.\n"
     ]
    }
   ],
   "source": [
    "# Train model\n",
    "print(\"Train model...\")\n",
    "regressor = LinearRegression()\n",
    "regressor.fit(X_train, Y_train)\n",
    "print(\"...Done.\")"
   ]
  },
  {
   "cell_type": "markdown",
   "id": "66c9d615-1c9e-4797-a6fe-0ae42d56c7ef",
   "metadata": {
    "tags": []
   },
   "source": [
    "- ## 2.3 Performance assessment"
   ]
  },
  {
   "cell_type": "code",
   "execution_count": 39,
   "id": "09e8f96b-4942-462f-9ed3-11ea5d7c18a3",
   "metadata": {
    "colab": {
     "base_uri": "https://localhost:8080/",
     "height": 101
    },
    "colab_type": "code",
    "id": "3SnwgbTP1nDt",
    "outputId": "69792eef-997d-42a3-8a7d-e07fa99b8735",
    "tags": []
   },
   "outputs": [
    {
     "name": "stdout",
     "output_type": "stream",
     "text": [
      "Predictions on training set...\n",
      "...Done.\n",
      "[ 345453.41734299 1166916.83331935 1402517.44634193 2068151.71407692\n",
      " 1921354.8585015  1993918.80422721 2164731.92953557 1584915.66688982\n",
      "  609412.40590646 2419162.41306689 1424763.67477377 2056420.57731472\n",
      " 1960039.73001308 1986470.70699678 1291857.73040625 1910049.32195797\n",
      "  583064.27306588 1357151.51196631 1372723.2151276   926990.59281169\n",
      " 2113760.76135912  351094.2714745  1977360.6047895   377290.46649403\n",
      " 1653171.71530068 1847766.51384435 2042843.32280853 2065845.52748385\n",
      " 2071865.16759688  686626.20122392  606972.63525748 1157565.57400604\n",
      "  377438.3204395   402208.16409353 1539896.46958316 1986890.28742158\n",
      " 2436208.44389106  444619.04716171 1629855.48261014 1559336.41376164\n",
      "  507937.44111981  336085.10478546  422313.71639306 1489552.80857663\n",
      "  760464.79397008  417648.20784499 1993259.25197737 2173040.85508446\n",
      " 1757242.51        481013.78891684  945026.02256024 1477646.92356706\n",
      " 2110671.84374898  131934.39574529 1400955.90200803  949240.14325136\n",
      " 2018984.01736723  742953.73147446  815677.38967121 1971342.76917911\n",
      " 1531607.04785737  921782.47115381  924341.23767207  508567.40168705\n",
      " 1781182.7252105   341168.72577072  520470.40619265  242315.12597022\n",
      " 1090575.26686301 1963552.83352455 1981725.99096253 2187816.11052262\n",
      " 1517534.15330557 1870152.05039736 1545105.91598669 1541696.82700775\n",
      "  852786.18407171  475015.3865084   901397.14794202  657155.69571019\n",
      " 1812204.14641184  346867.58731663 1362172.52099966  515638.62092165\n",
      " 1487660.45392993 2088409.47997765  541189.8060809   627832.50657611\n",
      "  961893.43123298 1996754.98075032]\n",
      "\n"
     ]
    }
   ],
   "source": [
    "# Predictions on training set\n",
    "print(\"Predictions on training set...\")\n",
    "Y_train_pred = regressor.predict(X_train)\n",
    "print(\"...Done.\")\n",
    "print(Y_train_pred)\n",
    "print()"
   ]
  },
  {
   "cell_type": "code",
   "execution_count": 40,
   "id": "fec9ca4f-aa9e-4ef5-a34e-71c1409158b7",
   "metadata": {
    "colab": {
     "base_uri": "https://localhost:8080/",
     "height": 84
    },
    "colab_type": "code",
    "id": "pheNrbku33Od",
    "outputId": "a0832e59-6238-41f2-dd57-745b7a7e82e9",
    "tags": []
   },
   "outputs": [
    {
     "name": "stdout",
     "output_type": "stream",
     "text": [
      "Predictions on test set...\n",
      "...Done.\n",
      "[ 377852.43059059 1442910.9981167  1614894.14654116  884781.79007114\n",
      "  493344.53432481 1183135.87235512 1999199.45322043 2326016.61653379\n",
      " 2026250.78874589 1555619.08013384 1033370.55202618 2043416.07066753\n",
      " 1122943.29696071  604308.86918627  465363.43339226   61004.14256379\n",
      "  610158.40748028  163968.32492321 1883613.56738896  486007.38808265\n",
      " 1929187.52099832  472351.38741341 2064918.10984959]\n",
      "\n"
     ]
    }
   ],
   "source": [
    "# Predictions on test set\n",
    "print(\"Predictions on test set...\")\n",
    "Y_test_pred = regressor.predict(X_test)\n",
    "print(\"...Done.\")\n",
    "print(Y_test_pred)\n",
    "print()"
   ]
  },
  {
   "cell_type": "code",
   "execution_count": 41,
   "id": "1809bed9-9b44-4c2f-88e1-fe5d0c34c042",
   "metadata": {
    "colab": {
     "base_uri": "https://localhost:8080/",
     "height": 50
    },
    "colab_type": "code",
    "id": "A2R6MyJ44DDA",
    "outputId": "3a333592-6b2a-40e6-8e2d-0a1c28f1a5bf",
    "tags": []
   },
   "outputs": [
    {
     "name": "stdout",
     "output_type": "stream",
     "text": [
      "R2 score on training set :  0.9719610499160057\n",
      "R2 score on test set :  0.9492716025800253\n"
     ]
    }
   ],
   "source": [
    "# Print R^2 scores\n",
    "print(\"R2 score on training set : \", r2_score(Y_train, Y_train_pred))\n",
    "print(\"R2 score on test set : \", r2_score(Y_test, Y_test_pred))"
   ]
  },
  {
   "cell_type": "markdown",
   "id": "a20f0e4f-7b18-4917-861e-acf0ef584b45",
   "metadata": {
    "tags": []
   },
   "source": [
    "📝 **Model's quality**  \n",
    "- ➡️ The predictions are very good.  \n",
    "- ➡️ What about the features importances ? Which one are the most important in this model ? Let's check the **.coef_**"
   ]
  },
  {
   "cell_type": "code",
   "execution_count": 42,
   "id": "bf3ee47e-aa57-4017-be3a-98837f7e0c69",
   "metadata": {
    "tags": []
   },
   "outputs": [
    {
     "name": "stdout",
     "output_type": "stream",
     "text": [
      "The coefficients are :  [ 3.68853893e+05 -1.19444058e+06  4.24171231e+05 -1.36879517e+06\n",
      "  3.31263311e+04 -9.68656181e+05 -7.15381913e+05 -1.17446761e+06\n",
      "  4.12235068e+05  1.59272701e+05  3.07473701e+05  6.01715554e+05\n",
      " -8.90606529e+05 -1.12069333e+06 -9.51677269e+05 -4.68229729e+05\n",
      " -1.41739421e+05  4.11217943e+05 -5.80021141e+04 -3.46258558e+04\n",
      " -4.20285964e+04 -3.11450415e+04 -7.10984772e+04  4.52590826e+02\n",
      "  7.65244148e+04 -3.82685498e+04]\n",
      "\n",
      "The constant is : 1595554.445333251\n"
     ]
    }
   ],
   "source": [
    "print(\"The coefficients are : \",regressor.coef_)\n",
    "print()\n",
    "print(\"The constant is :\",regressor.intercept_)"
   ]
  },
  {
   "cell_type": "code",
   "execution_count": 43,
   "id": "e1aeecbb-23cb-4610-878f-588e3a95b64e",
   "metadata": {
    "tags": []
   },
   "outputs": [
    {
     "name": "stdout",
     "output_type": "stream",
     "text": [
      "Names of columns corresponding to each coefficient:  ['x0_2.0', 'x0_3.0', 'x0_4.0', 'x0_5.0', 'x0_6.0', 'x0_7.0', 'x0_8.0', 'x0_9.0', 'x0_10.0', 'x0_11.0', 'x0_13.0', 'x0_14.0', 'x0_15.0', 'x0_16.0', 'x0_17.0', 'x0_18.0', 'x0_19.0', 'x0_20.0', 'x1_1.0', 'Temperature', 'Fuel_Price', 'CPI', 'Unemployment', 'Year', 'Month', 'Day']\n"
     ]
    }
   ],
   "source": [
    "column_names = []\n",
    "for name, pipeline, features_list in preprocessor.transformers_: # loop over pipelines\n",
    "    if name == 'num': # if pipeline is for numeric variables\n",
    "        features = features_list # just get the names of columns to which it has been applied\n",
    "    else: # if pipeline is for categorical variables\n",
    "        features = pipeline.named_steps['encoder'].get_feature_names_out() # get output columns names from OneHotEncoder\n",
    "    column_names.extend(features) # concatenate features names\n",
    "        \n",
    "print(\"Names of columns corresponding to each coefficient: \", column_names)"
   ]
  },
  {
   "cell_type": "markdown",
   "id": "97502dc2-e2b1-4803-a216-51554a8c10a2",
   "metadata": {
    "tags": []
   },
   "source": [
    "- ## 2.4 Features Importance"
   ]
  },
  {
   "cell_type": "code",
   "execution_count": 44,
   "id": "3165e928-6f48-4a33-8dae-0f22f8792d67",
   "metadata": {
    "tags": []
   },
   "outputs": [
    {
     "data": {
      "text/html": [
       "<div>\n",
       "<style scoped>\n",
       "    .dataframe tbody tr th:only-of-type {\n",
       "        vertical-align: middle;\n",
       "    }\n",
       "\n",
       "    .dataframe tbody tr th {\n",
       "        vertical-align: top;\n",
       "    }\n",
       "\n",
       "    .dataframe thead th {\n",
       "        text-align: right;\n",
       "    }\n",
       "</style>\n",
       "<table border=\"1\" class=\"dataframe\">\n",
       "  <thead>\n",
       "    <tr style=\"text-align: right;\">\n",
       "      <th></th>\n",
       "      <th>coefficients</th>\n",
       "    </tr>\n",
       "  </thead>\n",
       "  <tbody>\n",
       "    <tr>\n",
       "      <th>x0_2.0</th>\n",
       "      <td>3.688539e+05</td>\n",
       "    </tr>\n",
       "    <tr>\n",
       "      <th>x0_3.0</th>\n",
       "      <td>-1.194441e+06</td>\n",
       "    </tr>\n",
       "    <tr>\n",
       "      <th>x0_4.0</th>\n",
       "      <td>4.241712e+05</td>\n",
       "    </tr>\n",
       "    <tr>\n",
       "      <th>x0_5.0</th>\n",
       "      <td>-1.368795e+06</td>\n",
       "    </tr>\n",
       "    <tr>\n",
       "      <th>x0_6.0</th>\n",
       "      <td>3.312633e+04</td>\n",
       "    </tr>\n",
       "    <tr>\n",
       "      <th>x0_7.0</th>\n",
       "      <td>-9.686562e+05</td>\n",
       "    </tr>\n",
       "    <tr>\n",
       "      <th>x0_8.0</th>\n",
       "      <td>-7.153819e+05</td>\n",
       "    </tr>\n",
       "    <tr>\n",
       "      <th>x0_9.0</th>\n",
       "      <td>-1.174468e+06</td>\n",
       "    </tr>\n",
       "    <tr>\n",
       "      <th>x0_10.0</th>\n",
       "      <td>4.122351e+05</td>\n",
       "    </tr>\n",
       "    <tr>\n",
       "      <th>x0_11.0</th>\n",
       "      <td>1.592727e+05</td>\n",
       "    </tr>\n",
       "    <tr>\n",
       "      <th>x0_13.0</th>\n",
       "      <td>3.074737e+05</td>\n",
       "    </tr>\n",
       "    <tr>\n",
       "      <th>x0_14.0</th>\n",
       "      <td>6.017156e+05</td>\n",
       "    </tr>\n",
       "    <tr>\n",
       "      <th>x0_15.0</th>\n",
       "      <td>-8.906065e+05</td>\n",
       "    </tr>\n",
       "    <tr>\n",
       "      <th>x0_16.0</th>\n",
       "      <td>-1.120693e+06</td>\n",
       "    </tr>\n",
       "    <tr>\n",
       "      <th>x0_17.0</th>\n",
       "      <td>-9.516773e+05</td>\n",
       "    </tr>\n",
       "    <tr>\n",
       "      <th>x0_18.0</th>\n",
       "      <td>-4.682297e+05</td>\n",
       "    </tr>\n",
       "    <tr>\n",
       "      <th>x0_19.0</th>\n",
       "      <td>-1.417394e+05</td>\n",
       "    </tr>\n",
       "    <tr>\n",
       "      <th>x0_20.0</th>\n",
       "      <td>4.112179e+05</td>\n",
       "    </tr>\n",
       "    <tr>\n",
       "      <th>x1_1.0</th>\n",
       "      <td>-5.800211e+04</td>\n",
       "    </tr>\n",
       "    <tr>\n",
       "      <th>Temperature</th>\n",
       "      <td>-3.462586e+04</td>\n",
       "    </tr>\n",
       "    <tr>\n",
       "      <th>Fuel_Price</th>\n",
       "      <td>-4.202860e+04</td>\n",
       "    </tr>\n",
       "    <tr>\n",
       "      <th>CPI</th>\n",
       "      <td>-3.114504e+04</td>\n",
       "    </tr>\n",
       "    <tr>\n",
       "      <th>Unemployment</th>\n",
       "      <td>-7.109848e+04</td>\n",
       "    </tr>\n",
       "    <tr>\n",
       "      <th>Year</th>\n",
       "      <td>4.525908e+02</td>\n",
       "    </tr>\n",
       "    <tr>\n",
       "      <th>Month</th>\n",
       "      <td>7.652441e+04</td>\n",
       "    </tr>\n",
       "    <tr>\n",
       "      <th>Day</th>\n",
       "      <td>-3.826855e+04</td>\n",
       "    </tr>\n",
       "  </tbody>\n",
       "</table>\n",
       "</div>"
      ],
      "text/plain": [
       "              coefficients\n",
       "x0_2.0        3.688539e+05\n",
       "x0_3.0       -1.194441e+06\n",
       "x0_4.0        4.241712e+05\n",
       "x0_5.0       -1.368795e+06\n",
       "x0_6.0        3.312633e+04\n",
       "x0_7.0       -9.686562e+05\n",
       "x0_8.0       -7.153819e+05\n",
       "x0_9.0       -1.174468e+06\n",
       "x0_10.0       4.122351e+05\n",
       "x0_11.0       1.592727e+05\n",
       "x0_13.0       3.074737e+05\n",
       "x0_14.0       6.017156e+05\n",
       "x0_15.0      -8.906065e+05\n",
       "x0_16.0      -1.120693e+06\n",
       "x0_17.0      -9.516773e+05\n",
       "x0_18.0      -4.682297e+05\n",
       "x0_19.0      -1.417394e+05\n",
       "x0_20.0       4.112179e+05\n",
       "x1_1.0       -5.800211e+04\n",
       "Temperature  -3.462586e+04\n",
       "Fuel_Price   -4.202860e+04\n",
       "CPI          -3.114504e+04\n",
       "Unemployment -7.109848e+04\n",
       "Year          4.525908e+02\n",
       "Month         7.652441e+04\n",
       "Day          -3.826855e+04"
      ]
     },
     "execution_count": 44,
     "metadata": {},
     "output_type": "execute_result"
    }
   ],
   "source": [
    "# Create a pandas DataFrame\n",
    "coefs = pd.DataFrame(index = column_names, data = regressor.coef_.transpose(), columns=[\"coefficients\"])\n",
    "coefs"
   ]
  },
  {
   "cell_type": "code",
   "execution_count": 45,
   "id": "2bd82bb1-d028-443a-8a83-d5dc370c09a8",
   "metadata": {
    "tags": []
   },
   "outputs": [
    {
     "data": {
      "text/html": [
       "<div>\n",
       "<style scoped>\n",
       "    .dataframe tbody tr th:only-of-type {\n",
       "        vertical-align: middle;\n",
       "    }\n",
       "\n",
       "    .dataframe tbody tr th {\n",
       "        vertical-align: top;\n",
       "    }\n",
       "\n",
       "    .dataframe thead th {\n",
       "        text-align: right;\n",
       "    }\n",
       "</style>\n",
       "<table border=\"1\" class=\"dataframe\">\n",
       "  <thead>\n",
       "    <tr style=\"text-align: right;\">\n",
       "      <th></th>\n",
       "      <th>coefficients</th>\n",
       "    </tr>\n",
       "  </thead>\n",
       "  <tbody>\n",
       "    <tr>\n",
       "      <th>x0_5.0</th>\n",
       "      <td>1.368795e+06</td>\n",
       "    </tr>\n",
       "    <tr>\n",
       "      <th>x0_3.0</th>\n",
       "      <td>1.194441e+06</td>\n",
       "    </tr>\n",
       "    <tr>\n",
       "      <th>x0_9.0</th>\n",
       "      <td>1.174468e+06</td>\n",
       "    </tr>\n",
       "    <tr>\n",
       "      <th>x0_16.0</th>\n",
       "      <td>1.120693e+06</td>\n",
       "    </tr>\n",
       "    <tr>\n",
       "      <th>x0_7.0</th>\n",
       "      <td>9.686562e+05</td>\n",
       "    </tr>\n",
       "    <tr>\n",
       "      <th>x0_17.0</th>\n",
       "      <td>9.516773e+05</td>\n",
       "    </tr>\n",
       "    <tr>\n",
       "      <th>x0_15.0</th>\n",
       "      <td>8.906065e+05</td>\n",
       "    </tr>\n",
       "    <tr>\n",
       "      <th>x0_8.0</th>\n",
       "      <td>7.153819e+05</td>\n",
       "    </tr>\n",
       "    <tr>\n",
       "      <th>x0_14.0</th>\n",
       "      <td>6.017156e+05</td>\n",
       "    </tr>\n",
       "    <tr>\n",
       "      <th>x0_18.0</th>\n",
       "      <td>4.682297e+05</td>\n",
       "    </tr>\n",
       "    <tr>\n",
       "      <th>x0_4.0</th>\n",
       "      <td>4.241712e+05</td>\n",
       "    </tr>\n",
       "    <tr>\n",
       "      <th>x0_10.0</th>\n",
       "      <td>4.122351e+05</td>\n",
       "    </tr>\n",
       "    <tr>\n",
       "      <th>x0_20.0</th>\n",
       "      <td>4.112179e+05</td>\n",
       "    </tr>\n",
       "    <tr>\n",
       "      <th>x0_2.0</th>\n",
       "      <td>3.688539e+05</td>\n",
       "    </tr>\n",
       "    <tr>\n",
       "      <th>x0_13.0</th>\n",
       "      <td>3.074737e+05</td>\n",
       "    </tr>\n",
       "    <tr>\n",
       "      <th>x0_11.0</th>\n",
       "      <td>1.592727e+05</td>\n",
       "    </tr>\n",
       "    <tr>\n",
       "      <th>x0_19.0</th>\n",
       "      <td>1.417394e+05</td>\n",
       "    </tr>\n",
       "    <tr>\n",
       "      <th>Month</th>\n",
       "      <td>7.652441e+04</td>\n",
       "    </tr>\n",
       "    <tr>\n",
       "      <th>Unemployment</th>\n",
       "      <td>7.109848e+04</td>\n",
       "    </tr>\n",
       "    <tr>\n",
       "      <th>x1_1.0</th>\n",
       "      <td>5.800211e+04</td>\n",
       "    </tr>\n",
       "    <tr>\n",
       "      <th>Fuel_Price</th>\n",
       "      <td>4.202860e+04</td>\n",
       "    </tr>\n",
       "    <tr>\n",
       "      <th>Day</th>\n",
       "      <td>3.826855e+04</td>\n",
       "    </tr>\n",
       "    <tr>\n",
       "      <th>Temperature</th>\n",
       "      <td>3.462586e+04</td>\n",
       "    </tr>\n",
       "    <tr>\n",
       "      <th>x0_6.0</th>\n",
       "      <td>3.312633e+04</td>\n",
       "    </tr>\n",
       "    <tr>\n",
       "      <th>CPI</th>\n",
       "      <td>3.114504e+04</td>\n",
       "    </tr>\n",
       "    <tr>\n",
       "      <th>Year</th>\n",
       "      <td>4.525908e+02</td>\n",
       "    </tr>\n",
       "  </tbody>\n",
       "</table>\n",
       "</div>"
      ],
      "text/plain": [
       "              coefficients\n",
       "x0_5.0        1.368795e+06\n",
       "x0_3.0        1.194441e+06\n",
       "x0_9.0        1.174468e+06\n",
       "x0_16.0       1.120693e+06\n",
       "x0_7.0        9.686562e+05\n",
       "x0_17.0       9.516773e+05\n",
       "x0_15.0       8.906065e+05\n",
       "x0_8.0        7.153819e+05\n",
       "x0_14.0       6.017156e+05\n",
       "x0_18.0       4.682297e+05\n",
       "x0_4.0        4.241712e+05\n",
       "x0_10.0       4.122351e+05\n",
       "x0_20.0       4.112179e+05\n",
       "x0_2.0        3.688539e+05\n",
       "x0_13.0       3.074737e+05\n",
       "x0_11.0       1.592727e+05\n",
       "x0_19.0       1.417394e+05\n",
       "Month         7.652441e+04\n",
       "Unemployment  7.109848e+04\n",
       "x1_1.0        5.800211e+04\n",
       "Fuel_Price    4.202860e+04\n",
       "Day           3.826855e+04\n",
       "Temperature   3.462586e+04\n",
       "x0_6.0        3.312633e+04\n",
       "CPI           3.114504e+04\n",
       "Year          4.525908e+02"
      ]
     },
     "execution_count": 45,
     "metadata": {},
     "output_type": "execute_result"
    }
   ],
   "source": [
    "# Compute abs() and sort values by most importance features\n",
    "feature_importance = abs(coefs).sort_values(by = 'coefficients', ascending=False)\n",
    "feature_importance"
   ]
  },
  {
   "cell_type": "code",
   "execution_count": 46,
   "id": "4d6c440a-b3ed-4cfe-941c-209da91234ad",
   "metadata": {
    "tags": []
   },
   "outputs": [
    {
     "data": {
      "image/png": "[encoded data removed]",
      "text/plain": [
       "<Figure size 800x1000 with 1 Axes>"
      ]
     },
     "metadata": {},
     "output_type": "display_data"
    }
   ],
   "source": [
    "# Plotting Feature importances\n",
    "feature_importance.plot(kind='barh', figsize=(8, 10), color='darkblue')\n",
    "plt.title('Feature importances')\n",
    "plt.ylabel('Features')\n",
    "plt.xlabel('Coefficient')\n",
    "plt.show()"
   ]
  },
  {
   "cell_type": "markdown",
   "id": "7b0c8427-8e87-46ad-b659-b69b755d681a",
   "metadata": {
    "tags": []
   },
   "source": [
    "➡️ Stores are the most important features far away from Month and Unemployment"
   ]
  },
  {
   "cell_type": "markdown",
   "id": "a9699ede-e633-4a90-a53d-8b72136680b5",
   "metadata": {
    "tags": []
   },
   "source": [
    "# 3. GRIDSEARCH"
   ]
  },
  {
   "cell_type": "markdown",
   "id": "3e709f5f-13ac-42a5-a93e-4e95e5eb0adf",
   "metadata": {},
   "source": [
    "**Let's try to improve our model by performing a grid search for Ridge and Lasso hyperparameters**"
   ]
  },
  {
   "cell_type": "code",
   "execution_count": 47,
   "id": "d08f94aa-34b1-4902-b9a5-e72c15efb5a7",
   "metadata": {
    "tags": []
   },
   "outputs": [
    {
     "name": "stdout",
     "output_type": "stream",
     "text": [
      "Grid search...\n",
      "...Done.\n",
      "Best hyperparameters :  {'alpha': 0.05}\n",
      "Best R2 score :  0.9167461886219936\n",
      "\n",
      "R2 score on training set :  0.971432360946731\n",
      "R2 score on test set :  0.9569797242772162\n"
     ]
    }
   ],
   "source": [
    "# Perform grid search\n",
    "print(\"Grid search...\")\n",
    "regressor = Ridge()\n",
    "# Grid of values to be tested\n",
    "params = {\n",
    "    'alpha': [0.01, 0.02, 0.05, 0.1, 0.5, 1, 10] # 0 corresponds to no regularization\n",
    "}\n",
    "gridsearch = GridSearchCV(regressor, param_grid = params, cv = 10) # cv : the number of folds to be used for CV\n",
    "gridsearch.fit(X_train, Y_train)\n",
    "print(\"...Done.\")\n",
    "print(\"Best hyperparameters : \", gridsearch.best_params_)\n",
    "print(\"Best R2 score : \", gridsearch.best_score_)\n",
    "\n",
    "print()\n",
    "# Print R^2 scores\n",
    "print(\"R2 score on training set : \", gridsearch.score(X_train, Y_train))\n",
    "print(\"R2 score on test set : \", gridsearch.score(X_test, Y_test))"
   ]
  },
  {
   "cell_type": "code",
   "execution_count": 48,
   "id": "a60fb8ff-d5ff-4eb8-a4ac-7a9b61a48ec4",
   "metadata": {
    "tags": []
   },
   "outputs": [
    {
     "name": "stdout",
     "output_type": "stream",
     "text": [
      "Grid search...\n",
      "...Done.\n",
      "Best hyperparameters :  {'alpha': 1000}\n",
      "Best R2 score :  0.9208313805285189\n",
      "\n",
      "R2 score on training set :  0.9703771386862027\n",
      "R2 score on test set :  0.9592893720220962\n"
     ]
    }
   ],
   "source": [
    "# Perform grid search\n",
    "print(\"Grid search...\")\n",
    "# Grid of values to be tested\n",
    "params = {\n",
    "    'alpha': [0.1, 1, 10,100,500,1000] # 0 corresponds to no regularization\n",
    "}\n",
    "gridsearch = GridSearchCV(regressor, param_grid = params, cv = 10) # cv : the number of folds to be used for CV\n",
    "gridsearch.fit(X_train, Y_train)\n",
    "print(\"...Done.\")\n",
    "print(\"Best hyperparameters : \", gridsearch.best_params_)\n",
    "print(\"Best R2 score : \", gridsearch.best_score_)\n",
    "\n",
    "print()\n",
    "# Print R^2 scores\n",
    "print(\"R2 score on training set : \", gridsearch.score(X_train, Y_train))\n",
    "print(\"R2 score on test set : \", gridsearch.score(X_test, Y_test))"
   ]
  },
  {
   "cell_type": "markdown",
   "id": "c531613f-8769-4e46-a435-dac4d3b0be49",
   "metadata": {
    "tags": []
   },
   "source": [
    "### 📝 Results are quite the same for Ridge and Lasso.  \n",
    "- Lasso gets slightly better results.  \n",
    "- Let's use Lasso to improve our model"
   ]
  },
  {
   "cell_type": "code",
   "execution_count": 49,
   "id": "8a302b30-c544-4be7-b395-7f202d23a087",
   "metadata": {
    "tags": []
   },
   "outputs": [
    {
     "name": "stdout",
     "output_type": "stream",
     "text": [
      "r2-score on train set :  0.9703771386862027\n",
      "r2-score on test set :  0.9592893720220962\n"
     ]
    }
   ],
   "source": [
    "lasso = Lasso(alpha=1000)\n",
    "lasso.fit(X_train, Y_train)\n",
    "\n",
    "y_train_pred = lasso.predict(X_train)\n",
    "y_test_pred = lasso.predict(X_test)\n",
    "\n",
    "print(\"r2-score on train set : \", r2_score(Y_train, y_train_pred))\n",
    "print(\"r2-score on test set : \", r2_score(Y_test, y_test_pred))"
   ]
  }
 ],
 "metadata": {
  "kernelspec": {
   "display_name": "Python 3 (ipykernel)",
   "language": "python",
   "name": "python3"
  },
  "language_info": {
   "codemirror_mode": {
    "name": "ipython",
    "version": 3
   },
   "file_extension": ".py",
   "mimetype": "text/x-python",
   "name": "python",
   "nbconvert_exporter": "python",
   "pygments_lexer": "ipython3",
   "version": "3.11.5"
  }
 },
 "nbformat": 4,
 "nbformat_minor": 5
}
