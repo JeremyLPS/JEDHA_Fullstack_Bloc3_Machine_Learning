{
 "cells": [
  {
   "cell_type": "code",
   "execution_count": 1,
   "id": "54d4b1d5-d9b7-4d47-a446-927e5d608a3b",
   "metadata": {},
   "outputs": [],
   "source": [
    "import pandas as pd\n",
    "import numpy as np\n",
    "import plotly.express as px\n",
    "import seaborn as sns\n",
    "import matplotlib.pyplot as plt\n",
    "import plotly.io as pio\n",
    "import plotly.graph_objects as go\n",
    "pio.renderers.default = \"iframe\"\n",
    "\n",
    "from sklearn.preprocessing import StandardScaler,OneHotEncoder\n",
    "from sklearn.compose import ColumnTransformer\n",
    "from sklearn.metrics import silhouette_score\n",
    "from sklearn.cluster import KMeans, DBSCAN"
   ]
  },
  {
   "cell_type": "code",
   "execution_count": 2,
   "id": "abcc4b65-cb8e-43a1-b9bf-6900805fe7cd",
   "metadata": {
    "tags": []
   },
   "outputs": [
    {
     "data": {
      "text/html": [
       "<div>\n",
       "<style scoped>\n",
       "    .dataframe tbody tr th:only-of-type {\n",
       "        vertical-align: middle;\n",
       "    }\n",
       "\n",
       "    .dataframe tbody tr th {\n",
       "        vertical-align: top;\n",
       "    }\n",
       "\n",
       "    .dataframe thead th {\n",
       "        text-align: right;\n",
       "    }\n",
       "</style>\n",
       "<table border=\"1\" class=\"dataframe\">\n",
       "  <thead>\n",
       "    <tr style=\"text-align: right;\">\n",
       "      <th></th>\n",
       "      <th>LocationID</th>\n",
       "      <th>Borough</th>\n",
       "      <th>Zone</th>\n",
       "    </tr>\n",
       "  </thead>\n",
       "  <tbody>\n",
       "    <tr>\n",
       "      <th>0</th>\n",
       "      <td>1</td>\n",
       "      <td>EWR</td>\n",
       "      <td>Newark Airport</td>\n",
       "    </tr>\n",
       "    <tr>\n",
       "      <th>1</th>\n",
       "      <td>2</td>\n",
       "      <td>Queens</td>\n",
       "      <td>Jamaica Bay</td>\n",
       "    </tr>\n",
       "    <tr>\n",
       "      <th>2</th>\n",
       "      <td>3</td>\n",
       "      <td>Bronx</td>\n",
       "      <td>Allerton/Pelham Gardens</td>\n",
       "    </tr>\n",
       "    <tr>\n",
       "      <th>3</th>\n",
       "      <td>4</td>\n",
       "      <td>Manhattan</td>\n",
       "      <td>Alphabet City</td>\n",
       "    </tr>\n",
       "    <tr>\n",
       "      <th>4</th>\n",
       "      <td>5</td>\n",
       "      <td>Staten Island</td>\n",
       "      <td>Arden Heights</td>\n",
       "    </tr>\n",
       "    <tr>\n",
       "      <th>...</th>\n",
       "      <td>...</td>\n",
       "      <td>...</td>\n",
       "      <td>...</td>\n",
       "    </tr>\n",
       "    <tr>\n",
       "      <th>260</th>\n",
       "      <td>261</td>\n",
       "      <td>Manhattan</td>\n",
       "      <td>World Trade Center</td>\n",
       "    </tr>\n",
       "    <tr>\n",
       "      <th>261</th>\n",
       "      <td>262</td>\n",
       "      <td>Manhattan</td>\n",
       "      <td>Yorkville East</td>\n",
       "    </tr>\n",
       "    <tr>\n",
       "      <th>262</th>\n",
       "      <td>263</td>\n",
       "      <td>Manhattan</td>\n",
       "      <td>Yorkville West</td>\n",
       "    </tr>\n",
       "    <tr>\n",
       "      <th>263</th>\n",
       "      <td>264</td>\n",
       "      <td>Unknown</td>\n",
       "      <td>Unknown</td>\n",
       "    </tr>\n",
       "    <tr>\n",
       "      <th>264</th>\n",
       "      <td>265</td>\n",
       "      <td>Unknown</td>\n",
       "      <td>Unknown</td>\n",
       "    </tr>\n",
       "  </tbody>\n",
       "</table>\n",
       "<p>265 rows × 3 columns</p>\n",
       "</div>"
      ],
      "text/plain": [
       "     LocationID        Borough                     Zone\n",
       "0             1            EWR           Newark Airport\n",
       "1             2         Queens              Jamaica Bay\n",
       "2             3          Bronx  Allerton/Pelham Gardens\n",
       "3             4      Manhattan            Alphabet City\n",
       "4             5  Staten Island            Arden Heights\n",
       "..          ...            ...                      ...\n",
       "260         261      Manhattan       World Trade Center\n",
       "261         262      Manhattan           Yorkville East\n",
       "262         263      Manhattan           Yorkville West\n",
       "263         264        Unknown                  Unknown\n",
       "264         265        Unknown                  Unknown\n",
       "\n",
       "[265 rows x 3 columns]"
      ]
     },
     "execution_count": 2,
     "metadata": {},
     "output_type": "execute_result"
    }
   ],
   "source": [
    "pd.read_csv('taxi-zone-lookup.csv')"
   ]
  },
  {
   "cell_type": "code",
   "execution_count": 3,
   "id": "6030f60e-28a9-40a2-aca9-fc8b9d7d8ae7",
   "metadata": {
    "tags": []
   },
   "outputs": [],
   "source": [
    "df_0414 = pd.read_csv('uber-raw-data-apr14.csv')"
   ]
  },
  {
   "cell_type": "code",
   "execution_count": 4,
   "id": "88eb5084-c433-4953-9064-3c22dc4ee84f",
   "metadata": {
    "tags": []
   },
   "outputs": [],
   "source": [
    "df_0514 = pd.read_csv('uber-raw-data-may14.csv')"
   ]
  },
  {
   "cell_type": "code",
   "execution_count": 5,
   "id": "88f606cc-935a-49d5-b786-c4de621db239",
   "metadata": {
    "tags": []
   },
   "outputs": [],
   "source": [
    "df_0614 = pd.read_csv('uber-raw-data-jun14.csv')"
   ]
  },
  {
   "cell_type": "code",
   "execution_count": 6,
   "id": "fdfc7a86-c4b1-4f7e-ab02-8a894111997f",
   "metadata": {
    "tags": []
   },
   "outputs": [],
   "source": [
    "df_0714 = pd.read_csv('uber-raw-data-jul14.csv')"
   ]
  },
  {
   "cell_type": "code",
   "execution_count": 7,
   "id": "2a70b731-c77a-4b69-8692-6a8927478d30",
   "metadata": {
    "tags": []
   },
   "outputs": [],
   "source": [
    "df_0814 = pd.read_csv('uber-raw-data-aug14.csv')"
   ]
  },
  {
   "cell_type": "code",
   "execution_count": 8,
   "id": "ca90cc21-78f1-4082-8e69-3dedd657781f",
   "metadata": {
    "tags": []
   },
   "outputs": [],
   "source": [
    "df_0914 = pd.read_csv('uber-raw-data-sep14.csv')"
   ]
  },
  {
   "cell_type": "code",
   "execution_count": 9,
   "id": "3bfb8ee6-5852-429c-a561-4bdc30d50a59",
   "metadata": {
    "tags": []
   },
   "outputs": [],
   "source": [
    "df_010615 = pd.read_csv('uber-raw-data-janjune-15.csv')"
   ]
  },
  {
   "cell_type": "code",
   "execution_count": 10,
   "id": "f8e31673-238b-4fe5-9b9f-3563fa302daf",
   "metadata": {
    "tags": []
   },
   "outputs": [],
   "source": [
    "df_2014 = pd.concat([df_0414,df_0514,df_0614,df_0714,df_0814,df_0914])"
   ]
  },
  {
   "cell_type": "code",
   "execution_count": 11,
   "id": "56c0a52b-e1ca-4b6f-b967-819c6c9899c3",
   "metadata": {
    "tags": []
   },
   "outputs": [
    {
     "data": {
      "text/html": [
       "<div>\n",
       "<style scoped>\n",
       "    .dataframe tbody tr th:only-of-type {\n",
       "        vertical-align: middle;\n",
       "    }\n",
       "\n",
       "    .dataframe tbody tr th {\n",
       "        vertical-align: top;\n",
       "    }\n",
       "\n",
       "    .dataframe thead th {\n",
       "        text-align: right;\n",
       "    }\n",
       "</style>\n",
       "<table border=\"1\" class=\"dataframe\">\n",
       "  <thead>\n",
       "    <tr style=\"text-align: right;\">\n",
       "      <th></th>\n",
       "      <th>Date/Time</th>\n",
       "      <th>Lat</th>\n",
       "      <th>Lon</th>\n",
       "      <th>Base</th>\n",
       "    </tr>\n",
       "  </thead>\n",
       "  <tbody>\n",
       "    <tr>\n",
       "      <th>0</th>\n",
       "      <td>4/1/2014 0:11:00</td>\n",
       "      <td>40.7690</td>\n",
       "      <td>-73.9549</td>\n",
       "      <td>B02512</td>\n",
       "    </tr>\n",
       "    <tr>\n",
       "      <th>1</th>\n",
       "      <td>4/1/2014 0:17:00</td>\n",
       "      <td>40.7267</td>\n",
       "      <td>-74.0345</td>\n",
       "      <td>B02512</td>\n",
       "    </tr>\n",
       "    <tr>\n",
       "      <th>2</th>\n",
       "      <td>4/1/2014 0:21:00</td>\n",
       "      <td>40.7316</td>\n",
       "      <td>-73.9873</td>\n",
       "      <td>B02512</td>\n",
       "    </tr>\n",
       "    <tr>\n",
       "      <th>3</th>\n",
       "      <td>4/1/2014 0:28:00</td>\n",
       "      <td>40.7588</td>\n",
       "      <td>-73.9776</td>\n",
       "      <td>B02512</td>\n",
       "    </tr>\n",
       "    <tr>\n",
       "      <th>4</th>\n",
       "      <td>4/1/2014 0:33:00</td>\n",
       "      <td>40.7594</td>\n",
       "      <td>-73.9722</td>\n",
       "      <td>B02512</td>\n",
       "    </tr>\n",
       "  </tbody>\n",
       "</table>\n",
       "</div>"
      ],
      "text/plain": [
       "          Date/Time      Lat      Lon    Base\n",
       "0  4/1/2014 0:11:00  40.7690 -73.9549  B02512\n",
       "1  4/1/2014 0:17:00  40.7267 -74.0345  B02512\n",
       "2  4/1/2014 0:21:00  40.7316 -73.9873  B02512\n",
       "3  4/1/2014 0:28:00  40.7588 -73.9776  B02512\n",
       "4  4/1/2014 0:33:00  40.7594 -73.9722  B02512"
      ]
     },
     "execution_count": 11,
     "metadata": {},
     "output_type": "execute_result"
    }
   ],
   "source": [
    "df_2014.head()"
   ]
  },
  {
   "cell_type": "code",
   "execution_count": 12,
   "id": "241a0ce3-2cb9-4dbe-9159-498ebd171420",
   "metadata": {
    "tags": []
   },
   "outputs": [
    {
     "data": {
      "text/html": [
       "<div>\n",
       "<style scoped>\n",
       "    .dataframe tbody tr th:only-of-type {\n",
       "        vertical-align: middle;\n",
       "    }\n",
       "\n",
       "    .dataframe tbody tr th {\n",
       "        vertical-align: top;\n",
       "    }\n",
       "\n",
       "    .dataframe thead th {\n",
       "        text-align: right;\n",
       "    }\n",
       "</style>\n",
       "<table border=\"1\" class=\"dataframe\">\n",
       "  <thead>\n",
       "    <tr style=\"text-align: right;\">\n",
       "      <th></th>\n",
       "      <th>Date/Time</th>\n",
       "      <th>Lat</th>\n",
       "      <th>Lon</th>\n",
       "      <th>Base</th>\n",
       "    </tr>\n",
       "  </thead>\n",
       "  <tbody>\n",
       "    <tr>\n",
       "      <th>count</th>\n",
       "      <td>4534327</td>\n",
       "      <td>4.534327e+06</td>\n",
       "      <td>4.534327e+06</td>\n",
       "      <td>4534327</td>\n",
       "    </tr>\n",
       "    <tr>\n",
       "      <th>unique</th>\n",
       "      <td>260093</td>\n",
       "      <td>NaN</td>\n",
       "      <td>NaN</td>\n",
       "      <td>5</td>\n",
       "    </tr>\n",
       "    <tr>\n",
       "      <th>top</th>\n",
       "      <td>4/7/2014 20:21:00</td>\n",
       "      <td>NaN</td>\n",
       "      <td>NaN</td>\n",
       "      <td>B02617</td>\n",
       "    </tr>\n",
       "    <tr>\n",
       "      <th>freq</th>\n",
       "      <td>97</td>\n",
       "      <td>NaN</td>\n",
       "      <td>NaN</td>\n",
       "      <td>1458853</td>\n",
       "    </tr>\n",
       "    <tr>\n",
       "      <th>mean</th>\n",
       "      <td>NaN</td>\n",
       "      <td>4.073926e+01</td>\n",
       "      <td>-7.397302e+01</td>\n",
       "      <td>NaN</td>\n",
       "    </tr>\n",
       "    <tr>\n",
       "      <th>std</th>\n",
       "      <td>NaN</td>\n",
       "      <td>3.994991e-02</td>\n",
       "      <td>5.726670e-02</td>\n",
       "      <td>NaN</td>\n",
       "    </tr>\n",
       "    <tr>\n",
       "      <th>min</th>\n",
       "      <td>NaN</td>\n",
       "      <td>3.965690e+01</td>\n",
       "      <td>-7.492900e+01</td>\n",
       "      <td>NaN</td>\n",
       "    </tr>\n",
       "    <tr>\n",
       "      <th>25%</th>\n",
       "      <td>NaN</td>\n",
       "      <td>4.072110e+01</td>\n",
       "      <td>-7.399650e+01</td>\n",
       "      <td>NaN</td>\n",
       "    </tr>\n",
       "    <tr>\n",
       "      <th>50%</th>\n",
       "      <td>NaN</td>\n",
       "      <td>4.074220e+01</td>\n",
       "      <td>-7.398340e+01</td>\n",
       "      <td>NaN</td>\n",
       "    </tr>\n",
       "    <tr>\n",
       "      <th>75%</th>\n",
       "      <td>NaN</td>\n",
       "      <td>4.076100e+01</td>\n",
       "      <td>-7.396530e+01</td>\n",
       "      <td>NaN</td>\n",
       "    </tr>\n",
       "    <tr>\n",
       "      <th>max</th>\n",
       "      <td>NaN</td>\n",
       "      <td>4.211660e+01</td>\n",
       "      <td>-7.206660e+01</td>\n",
       "      <td>NaN</td>\n",
       "    </tr>\n",
       "  </tbody>\n",
       "</table>\n",
       "</div>"
      ],
      "text/plain": [
       "                Date/Time           Lat           Lon     Base\n",
       "count             4534327  4.534327e+06  4.534327e+06  4534327\n",
       "unique             260093           NaN           NaN        5\n",
       "top     4/7/2014 20:21:00           NaN           NaN   B02617\n",
       "freq                   97           NaN           NaN  1458853\n",
       "mean                  NaN  4.073926e+01 -7.397302e+01      NaN\n",
       "std                   NaN  3.994991e-02  5.726670e-02      NaN\n",
       "min                   NaN  3.965690e+01 -7.492900e+01      NaN\n",
       "25%                   NaN  4.072110e+01 -7.399650e+01      NaN\n",
       "50%                   NaN  4.074220e+01 -7.398340e+01      NaN\n",
       "75%                   NaN  4.076100e+01 -7.396530e+01      NaN\n",
       "max                   NaN  4.211660e+01 -7.206660e+01      NaN"
      ]
     },
     "execution_count": 12,
     "metadata": {},
     "output_type": "execute_result"
    }
   ],
   "source": [
    "df_2014.describe(include='all')"
   ]
  },
  {
   "cell_type": "code",
   "execution_count": 13,
   "id": "f4a0d4e9-acf2-44d4-9a7b-88e47442d55b",
   "metadata": {
    "tags": []
   },
   "outputs": [],
   "source": [
    "df_2014['Date/Time'] = pd.to_datetime(df_2014['Date/Time'])\n",
    "df_2014['hour'] = df_2014['Date/Time'].dt.hour\n",
    "df_2014['month'] = df_2014['Date/Time'].dt.month\n",
    "df_2014['day'] = df_2014['Date/Time'].dt.day\n",
    "df_2014['dayofweek'] = df_2014['Date/Time'].dt.day_name()"
   ]
  },
  {
   "cell_type": "code",
   "execution_count": 14,
   "id": "ca4cbbac-9c83-41a3-9755-e9325729c9c7",
   "metadata": {
    "tags": []
   },
   "outputs": [
    {
     "name": "stdout",
     "output_type": "stream",
     "text": [
      "<class 'pandas.core.frame.DataFrame'>\n",
      "Index: 4534327 entries, 0 to 1028135\n",
      "Data columns (total 8 columns):\n",
      " #   Column     Dtype         \n",
      "---  ------     -----         \n",
      " 0   Date/Time  datetime64[ns]\n",
      " 1   Lat        float64       \n",
      " 2   Lon        float64       \n",
      " 3   Base       object        \n",
      " 4   hour       int32         \n",
      " 5   month      int32         \n",
      " 6   day        int32         \n",
      " 7   dayofweek  object        \n",
      "dtypes: datetime64[ns](1), float64(2), int32(3), object(2)\n",
      "memory usage: 259.5+ MB\n"
     ]
    }
   ],
   "source": [
    "df_2014.info()"
   ]
  },
  {
   "cell_type": "code",
   "execution_count": 15,
   "id": "9985ed1d-1e0e-4118-b485-0effedd519ad",
   "metadata": {
    "tags": []
   },
   "outputs": [
    {
     "data": {
      "text/plain": [
       "Date/Time    260093\n",
       "Lat            7092\n",
       "Lon           11453\n",
       "Base              5\n",
       "hour             24\n",
       "month             6\n",
       "day              31\n",
       "dayofweek         7\n",
       "dtype: int64"
      ]
     },
     "execution_count": 15,
     "metadata": {},
     "output_type": "execute_result"
    }
   ],
   "source": [
    "df_2014.nunique()"
   ]
  },
  {
   "cell_type": "code",
   "execution_count": 16,
   "id": "a9d8a6f9-39d5-4a6d-b6bd-0561c0413948",
   "metadata": {
    "tags": []
   },
   "outputs": [
    {
     "data": {
      "text/html": [
       "<iframe\n",
       "    scrolling=\"no\"\n",
       "    width=\"100%\"\n",
       "    height=\"545px\"\n",
       "    src=\"iframe_figures/figure_16.html\"\n",
       "    frameborder=\"0\"\n",
       "    allowfullscreen\n",
       "></iframe>\n"
      ]
     },
     "metadata": {},
     "output_type": "display_data"
    }
   ],
   "source": [
    "hourly_avg = df_2014.groupby(['hour','dayofweek'])['Date/Time'].count().reset_index()\n",
    "avg_day_hour = hourly_avg.groupby(['dayofweek','hour'])['Date/Time'].mean().reset_index()\n",
    "\n",
    "fig= px.line(data_frame=avg_day_hour, x='hour',y='Date/Time', color='dayofweek', markers=True,\n",
    "             category_orders={'dayofweek':['Monday','Tuesday','Wednesday','Thursday','Friday','Saturday','Sunday']},\n",
    "             title='Average number of rides per hour by day of week')\n",
    "\n",
    "fig.update_layout(\n",
    "    xaxis = dict(tickvals = avg_day_hour['hour']),\n",
    "    yaxis_title=\"Average number of rides\",\n",
    "    xaxis_title=\"Hours\"\n",
    "    \n",
    ")\n",
    "fig.show()"
   ]
  },
  {
   "cell_type": "markdown",
   "id": "28da849a-6659-4539-bed2-2d8d00445b90",
   "metadata": {},
   "source": [
    "Two peaks can be highlighted : One between 5-6 AM and 9 AM and another one from 4 to 9 PM. Besides, Saturdays and Sundays are the only days with quite high average number of rides during the night compared to weekdays. That makes sense with weekend activities on Friday and Saturday evenings/nights."
   ]
  },
  {
   "cell_type": "code",
   "execution_count": 17,
   "id": "bf42329c-bd08-4375-a89b-788694ed2874",
   "metadata": {},
   "outputs": [
    {
     "data": {
      "text/html": [
       "<iframe\n",
       "    scrolling=\"no\"\n",
       "    width=\"820px\"\n",
       "    height=\"820\"\n",
       "    src=\"iframe_figures/figure_17.html\"\n",
       "    frameborder=\"0\"\n",
       "    allowfullscreen\n",
       "></iframe>\n"
      ]
     },
     "metadata": {},
     "output_type": "display_data"
    }
   ],
   "source": [
    "#A sample is needed to be able to map correctly the data and avoid a crash due to lack of memory\n",
    "sample = df_2014.sample(n=10000, weights='hour', random_state=0)\n",
    "fig_base = px.scatter_mapbox(sample, lat='Lat',lon='Lon', color='Base',zoom=9,mapbox_style=\"carto-positron\",width=800,height=800,title='Map of Uber pickups (sample) in 2014 by Base')\n",
    "fig_base.show()\n"
   ]
  },
  {
   "cell_type": "code",
   "execution_count": 18,
   "id": "89ee3f8f-98ed-43b1-bf5a-a2e48c4c0392",
   "metadata": {
    "tags": []
   },
   "outputs": [
    {
     "data": {
      "text/html": [
       "<iframe\n",
       "    scrolling=\"no\"\n",
       "    width=\"820px\"\n",
       "    height=\"820\"\n",
       "    src=\"iframe_figures/figure_18.html\"\n",
       "    frameborder=\"0\"\n",
       "    allowfullscreen\n",
       "></iframe>\n"
      ]
     },
     "metadata": {},
     "output_type": "display_data"
    }
   ],
   "source": [
    "fig_hour = px.scatter_mapbox(sample, lat='Lat',lon='Lon', color='hour',zoom=9,mapbox_style=\"carto-positron\",width=800,height=800,title='Map of Uber pickups (sample) in 2014 per hour')\n",
    "fig_hour.show()"
   ]
  },
  {
   "cell_type": "code",
   "execution_count": 19,
   "id": "b94b8b4f-8afe-485a-a13c-64e67670351d",
   "metadata": {
    "tags": []
   },
   "outputs": [
    {
     "data": {
      "text/plain": [
       "Base\n",
       "B02617    3168\n",
       "B02598    3068\n",
       "B02682    2678\n",
       "B02764     600\n",
       "B02512     486\n",
       "Name: count, dtype: int64"
      ]
     },
     "execution_count": 19,
     "metadata": {},
     "output_type": "execute_result"
    }
   ],
   "source": [
    "sample['Base'].value_counts()"
   ]
  },
  {
   "cell_type": "code",
   "execution_count": 20,
   "id": "d3d66f1e-7e60-43fe-99fb-b1ae01b79be0",
   "metadata": {
    "tags": []
   },
   "outputs": [
    {
     "data": {
      "text/html": [
       "<div>\n",
       "<style scoped>\n",
       "    .dataframe tbody tr th:only-of-type {\n",
       "        vertical-align: middle;\n",
       "    }\n",
       "\n",
       "    .dataframe tbody tr th {\n",
       "        vertical-align: top;\n",
       "    }\n",
       "\n",
       "    .dataframe thead th {\n",
       "        text-align: right;\n",
       "    }\n",
       "</style>\n",
       "<table border=\"1\" class=\"dataframe\">\n",
       "  <thead>\n",
       "    <tr style=\"text-align: right;\">\n",
       "      <th></th>\n",
       "      <th>Lat</th>\n",
       "      <th>Lon</th>\n",
       "    </tr>\n",
       "  </thead>\n",
       "  <tbody>\n",
       "    <tr>\n",
       "      <th>587300</th>\n",
       "      <td>40.8221</td>\n",
       "      <td>-73.9555</td>\n",
       "    </tr>\n",
       "    <tr>\n",
       "      <th>551923</th>\n",
       "      <td>40.7706</td>\n",
       "      <td>-73.9601</td>\n",
       "    </tr>\n",
       "    <tr>\n",
       "      <th>38471</th>\n",
       "      <td>40.7432</td>\n",
       "      <td>-74.0078</td>\n",
       "    </tr>\n",
       "    <tr>\n",
       "      <th>570574</th>\n",
       "      <td>40.7592</td>\n",
       "      <td>-73.9792</td>\n",
       "    </tr>\n",
       "    <tr>\n",
       "      <th>21778</th>\n",
       "      <td>40.6419</td>\n",
       "      <td>-73.7883</td>\n",
       "    </tr>\n",
       "    <tr>\n",
       "      <th>...</th>\n",
       "      <td>...</td>\n",
       "      <td>...</td>\n",
       "    </tr>\n",
       "    <tr>\n",
       "      <th>53018</th>\n",
       "      <td>40.7700</td>\n",
       "      <td>-73.9672</td>\n",
       "    </tr>\n",
       "    <tr>\n",
       "      <th>1011718</th>\n",
       "      <td>40.7767</td>\n",
       "      <td>-73.9831</td>\n",
       "    </tr>\n",
       "    <tr>\n",
       "      <th>313631</th>\n",
       "      <td>40.7708</td>\n",
       "      <td>-73.9670</td>\n",
       "    </tr>\n",
       "    <tr>\n",
       "      <th>448037</th>\n",
       "      <td>40.6877</td>\n",
       "      <td>-73.9781</td>\n",
       "    </tr>\n",
       "    <tr>\n",
       "      <th>308189</th>\n",
       "      <td>40.6952</td>\n",
       "      <td>-74.1786</td>\n",
       "    </tr>\n",
       "  </tbody>\n",
       "</table>\n",
       "<p>10000 rows × 2 columns</p>\n",
       "</div>"
      ],
      "text/plain": [
       "             Lat      Lon\n",
       "587300   40.8221 -73.9555\n",
       "551923   40.7706 -73.9601\n",
       "38471    40.7432 -74.0078\n",
       "570574   40.7592 -73.9792\n",
       "21778    40.6419 -73.7883\n",
       "...          ...      ...\n",
       "53018    40.7700 -73.9672\n",
       "1011718  40.7767 -73.9831\n",
       "313631   40.7708 -73.9670\n",
       "448037   40.6877 -73.9781\n",
       "308189   40.6952 -74.1786\n",
       "\n",
       "[10000 rows x 2 columns]"
      ]
     },
     "execution_count": 20,
     "metadata": {},
     "output_type": "execute_result"
    }
   ],
   "source": [
    "sample[['Lat','Lon']]"
   ]
  },
  {
   "cell_type": "code",
   "execution_count": 21,
   "id": "1df01650-ee05-439b-9d09-34b54f78bf2a",
   "metadata": {
    "tags": []
   },
   "outputs": [
    {
     "data": {
      "text/html": [
       "<div>\n",
       "<style scoped>\n",
       "    .dataframe tbody tr th:only-of-type {\n",
       "        vertical-align: middle;\n",
       "    }\n",
       "\n",
       "    .dataframe tbody tr th {\n",
       "        vertical-align: top;\n",
       "    }\n",
       "\n",
       "    .dataframe thead th {\n",
       "        text-align: right;\n",
       "    }\n",
       "</style>\n",
       "<table border=\"1\" class=\"dataframe\">\n",
       "  <thead>\n",
       "    <tr style=\"text-align: right;\">\n",
       "      <th></th>\n",
       "      <th>Date/Time</th>\n",
       "      <th>Lat</th>\n",
       "      <th>Lon</th>\n",
       "      <th>Base</th>\n",
       "      <th>hour</th>\n",
       "      <th>month</th>\n",
       "      <th>day</th>\n",
       "      <th>dayofweek</th>\n",
       "    </tr>\n",
       "  </thead>\n",
       "  <tbody>\n",
       "    <tr>\n",
       "      <th>587300</th>\n",
       "      <td>2014-07-31 19:59:00</td>\n",
       "      <td>40.8221</td>\n",
       "      <td>-73.9555</td>\n",
       "      <td>B02617</td>\n",
       "      <td>19</td>\n",
       "      <td>7</td>\n",
       "      <td>31</td>\n",
       "      <td>Thursday</td>\n",
       "    </tr>\n",
       "    <tr>\n",
       "      <th>551923</th>\n",
       "      <td>2014-08-26 18:43:00</td>\n",
       "      <td>40.7706</td>\n",
       "      <td>-73.9601</td>\n",
       "      <td>B02617</td>\n",
       "      <td>18</td>\n",
       "      <td>8</td>\n",
       "      <td>26</td>\n",
       "      <td>Tuesday</td>\n",
       "    </tr>\n",
       "    <tr>\n",
       "      <th>38471</th>\n",
       "      <td>2014-08-01 19:53:00</td>\n",
       "      <td>40.7432</td>\n",
       "      <td>-74.0078</td>\n",
       "      <td>B02598</td>\n",
       "      <td>19</td>\n",
       "      <td>8</td>\n",
       "      <td>1</td>\n",
       "      <td>Friday</td>\n",
       "    </tr>\n",
       "    <tr>\n",
       "      <th>570574</th>\n",
       "      <td>2014-07-30 16:37:00</td>\n",
       "      <td>40.7592</td>\n",
       "      <td>-73.9792</td>\n",
       "      <td>B02617</td>\n",
       "      <td>16</td>\n",
       "      <td>7</td>\n",
       "      <td>30</td>\n",
       "      <td>Wednesday</td>\n",
       "    </tr>\n",
       "    <tr>\n",
       "      <th>21778</th>\n",
       "      <td>2014-07-21 14:45:00</td>\n",
       "      <td>40.6419</td>\n",
       "      <td>-73.7883</td>\n",
       "      <td>B02512</td>\n",
       "      <td>14</td>\n",
       "      <td>7</td>\n",
       "      <td>21</td>\n",
       "      <td>Monday</td>\n",
       "    </tr>\n",
       "    <tr>\n",
       "      <th>...</th>\n",
       "      <td>...</td>\n",
       "      <td>...</td>\n",
       "      <td>...</td>\n",
       "      <td>...</td>\n",
       "      <td>...</td>\n",
       "      <td>...</td>\n",
       "      <td>...</td>\n",
       "      <td>...</td>\n",
       "    </tr>\n",
       "    <tr>\n",
       "      <th>53018</th>\n",
       "      <td>2014-04-04 17:24:00</td>\n",
       "      <td>40.7700</td>\n",
       "      <td>-73.9672</td>\n",
       "      <td>B02598</td>\n",
       "      <td>17</td>\n",
       "      <td>4</td>\n",
       "      <td>4</td>\n",
       "      <td>Friday</td>\n",
       "    </tr>\n",
       "    <tr>\n",
       "      <th>1011718</th>\n",
       "      <td>2014-09-28 16:35:00</td>\n",
       "      <td>40.7767</td>\n",
       "      <td>-73.9831</td>\n",
       "      <td>B02764</td>\n",
       "      <td>16</td>\n",
       "      <td>9</td>\n",
       "      <td>28</td>\n",
       "      <td>Sunday</td>\n",
       "    </tr>\n",
       "    <tr>\n",
       "      <th>313631</th>\n",
       "      <td>2014-07-06 12:36:00</td>\n",
       "      <td>40.7708</td>\n",
       "      <td>-73.9670</td>\n",
       "      <td>B02617</td>\n",
       "      <td>12</td>\n",
       "      <td>7</td>\n",
       "      <td>6</td>\n",
       "      <td>Sunday</td>\n",
       "    </tr>\n",
       "    <tr>\n",
       "      <th>448037</th>\n",
       "      <td>2014-06-28 22:56:00</td>\n",
       "      <td>40.6877</td>\n",
       "      <td>-73.9781</td>\n",
       "      <td>B02617</td>\n",
       "      <td>22</td>\n",
       "      <td>6</td>\n",
       "      <td>28</td>\n",
       "      <td>Saturday</td>\n",
       "    </tr>\n",
       "    <tr>\n",
       "      <th>308189</th>\n",
       "      <td>2014-05-03 19:18:00</td>\n",
       "      <td>40.6952</td>\n",
       "      <td>-74.1786</td>\n",
       "      <td>B02617</td>\n",
       "      <td>19</td>\n",
       "      <td>5</td>\n",
       "      <td>3</td>\n",
       "      <td>Saturday</td>\n",
       "    </tr>\n",
       "  </tbody>\n",
       "</table>\n",
       "<p>10000 rows × 8 columns</p>\n",
       "</div>"
      ],
      "text/plain": [
       "                  Date/Time      Lat      Lon    Base  hour  month  day  \\\n",
       "587300  2014-07-31 19:59:00  40.8221 -73.9555  B02617    19      7   31   \n",
       "551923  2014-08-26 18:43:00  40.7706 -73.9601  B02617    18      8   26   \n",
       "38471   2014-08-01 19:53:00  40.7432 -74.0078  B02598    19      8    1   \n",
       "570574  2014-07-30 16:37:00  40.7592 -73.9792  B02617    16      7   30   \n",
       "21778   2014-07-21 14:45:00  40.6419 -73.7883  B02512    14      7   21   \n",
       "...                     ...      ...      ...     ...   ...    ...  ...   \n",
       "53018   2014-04-04 17:24:00  40.7700 -73.9672  B02598    17      4    4   \n",
       "1011718 2014-09-28 16:35:00  40.7767 -73.9831  B02764    16      9   28   \n",
       "313631  2014-07-06 12:36:00  40.7708 -73.9670  B02617    12      7    6   \n",
       "448037  2014-06-28 22:56:00  40.6877 -73.9781  B02617    22      6   28   \n",
       "308189  2014-05-03 19:18:00  40.6952 -74.1786  B02617    19      5    3   \n",
       "\n",
       "         dayofweek  \n",
       "587300    Thursday  \n",
       "551923     Tuesday  \n",
       "38471       Friday  \n",
       "570574   Wednesday  \n",
       "21778       Monday  \n",
       "...            ...  \n",
       "53018       Friday  \n",
       "1011718     Sunday  \n",
       "313631      Sunday  \n",
       "448037    Saturday  \n",
       "308189    Saturday  \n",
       "\n",
       "[10000 rows x 8 columns]"
      ]
     },
     "execution_count": 21,
     "metadata": {},
     "output_type": "execute_result"
    }
   ],
   "source": [
    "sample"
   ]
  },
  {
   "cell_type": "code",
   "execution_count": 22,
   "id": "042241ce-46ec-4048-8440-eeb8d24acffc",
   "metadata": {},
   "outputs": [],
   "source": [
    "# Import Standard Scaler\n",
    "from sklearn.preprocessing import StandardScaler\n",
    "\n",
    "sc = StandardScaler()\n",
    "coord = ['Lat','Lon']\n",
    "X = sc.fit_transform(sample[coord])"
   ]
  },
  {
   "cell_type": "markdown",
   "id": "da7ce7ca-8996-4b1a-87a4-bdfa851f8d62",
   "metadata": {
    "tags": []
   },
   "source": [
    "## **Clustering with KMeans**"
   ]
  },
  {
   "cell_type": "code",
   "execution_count": 23,
   "id": "50ef0b00-85d9-489e-a89d-0a4d1b78f087",
   "metadata": {
    "tags": []
   },
   "outputs": [
    {
     "name": "stderr",
     "output_type": "stream",
     "text": [
      "C:\\Users\\j.lopes\\AppData\\Local\\anaconda\\Lib\\site-packages\\joblib\\externals\\loky\\backend\\context.py:110: UserWarning:\n",
      "\n",
      "Could not find the number of physical cores for the following reason:\n",
      "found 0 physical cores < 1\n",
      "Returning the number of logical cores instead. You can silence this warning by setting LOKY_MAX_CPU_COUNT to the number of cores you want to use.\n",
      "\n",
      "  File \"C:\\Users\\j.lopes\\AppData\\Local\\anaconda\\Lib\\site-packages\\joblib\\externals\\loky\\backend\\context.py\", line 217, in _count_physical_cores\n",
      "    raise ValueError(\n"
     ]
    },
    {
     "name": "stdout",
     "output_type": "stream",
     "text": [
      "WCSS for K=1 --> 20000.0\n",
      "WCSS for K=2 --> 14146.875810568019\n",
      "WCSS for K=3 --> 11536.779990863502\n",
      "WCSS for K=4 --> 8212.646734256568\n",
      "WCSS for K=5 --> 7100.692869295192\n",
      "WCSS for K=6 --> 6095.3730203944415\n",
      "WCSS for K=7 --> 5418.989647276246\n",
      "WCSS for K=8 --> 4041.571758793327\n",
      "WCSS for K=9 --> 3522.17468032072\n",
      "WCSS for K=10 --> 3173.483420510236\n",
      "WCSS for K=11 --> 2804.5900861470286\n",
      "WCSS for K=12 --> 2416.6766335392067\n",
      "WCSS for K=13 --> 2202.636280582832\n",
      "WCSS for K=14 --> 2087.4758898930795\n"
     ]
    }
   ],
   "source": [
    "wcss =  []\n",
    "k = []\n",
    "for i in range (1,15):\n",
    "    kmeans = KMeans(n_clusters= i, random_state = 0, n_init = 'auto')\n",
    "    kmeans.fit(X)\n",
    "    wcss.append(kmeans.inertia_)\n",
    "    k.append(i)\n",
    "    print(\"WCSS for K={} --> {}\".format(i, wcss[-1]))"
   ]
  },
  {
   "cell_type": "code",
   "execution_count": 24,
   "id": "f2ff4715-ad68-4a3e-ad5c-16f98b58b047",
   "metadata": {
    "tags": []
   },
   "outputs": [
    {
     "data": {
      "text/html": [
       "<iframe\n",
       "    scrolling=\"no\"\n",
       "    width=\"100%\"\n",
       "    height=\"545px\"\n",
       "    src=\"iframe_figures/figure_24.html\"\n",
       "    frameborder=\"0\"\n",
       "    allowfullscreen\n",
       "></iframe>\n"
      ]
     },
     "metadata": {},
     "output_type": "display_data"
    }
   ],
   "source": [
    "# Create DataFrame\n",
    "wcss_frame = pd.DataFrame(wcss)\n",
    "k_frame = pd.Series(k)\n",
    "\n",
    "# Create figure\n",
    "fig= px.line(\n",
    "    wcss_frame,\n",
    "    x=k_frame,\n",
    "    y=wcss_frame.iloc[:,-1]\n",
    ")\n",
    "\n",
    "# Create title and axis labels\n",
    "fig.update_layout(\n",
    "    yaxis_title=\"Inertia\",\n",
    "    xaxis_title=\"Number of clusters\",\n",
    "    title=\"Inertia per cluster\"\n",
    ")\n",
    "\n",
    "# Render\n",
    "#fig.show(renderer=\"notebook\")\n",
    "fig.show() # if using workspace"
   ]
  },
  {
   "cell_type": "code",
   "execution_count": 25,
   "id": "bc0fdf3a-644a-4398-8d84-6dcd757d5028",
   "metadata": {
    "tags": []
   },
   "outputs": [
    {
     "name": "stdout",
     "output_type": "stream",
     "text": [
      "Silhouette score for K=2 is 0.7265085137348773\n",
      "Silhouette score for K=3 is 0.564320609832981\n",
      "Silhouette score for K=4 is 0.43029336812553054\n",
      "Silhouette score for K=5 is 0.41757982600387533\n",
      "Silhouette score for K=6 is 0.4495454186094687\n",
      "Silhouette score for K=7 is 0.4544998125308262\n",
      "Silhouette score for K=8 is 0.4786588802921833\n",
      "Silhouette score for K=9 is 0.4812444173370239\n",
      "Silhouette score for K=10 is 0.4870065168832287\n",
      "Silhouette score for K=11 is 0.4469816824790004\n",
      "Silhouette score for K=12 is 0.450837201819232\n",
      "Silhouette score for K=13 is 0.4155468270544673\n",
      "Silhouette score for K=14 is 0.41617969910888913\n"
     ]
    }
   ],
   "source": [
    "# Computer mean silhouette score\n",
    "sil = []\n",
    "k = []\n",
    "\n",
    "## Careful, you need to start at i=2 as silhouette score cannot accept less than 2 labels\n",
    "for i in range (2,15):\n",
    "    kmeans = KMeans(n_clusters= i, random_state = 0, n_init = 'auto')\n",
    "    kmeans.fit(X)\n",
    "    sil.append(silhouette_score(X, kmeans.predict(X)))\n",
    "    k.append(i)\n",
    "    print(\"Silhouette score for K={} is {}\".format(i, sil[-1]))"
   ]
  },
  {
   "cell_type": "code",
   "execution_count": 26,
   "id": "ff096f27-7c53-47d0-bf5d-b9ea343bf4d1",
   "metadata": {
    "tags": []
   },
   "outputs": [
    {
     "data": {
      "text/html": [
       "<iframe\n",
       "    scrolling=\"no\"\n",
       "    width=\"100%\"\n",
       "    height=\"545px\"\n",
       "    src=\"iframe_figures/figure_26.html\"\n",
       "    frameborder=\"0\"\n",
       "    allowfullscreen\n",
       "></iframe>\n"
      ]
     },
     "metadata": {},
     "output_type": "display_data"
    }
   ],
   "source": [
    "# Create a data frame\n",
    "cluster_scores=pd.DataFrame(sil)\n",
    "k_frame = pd.Series(k)\n",
    "\n",
    "# Create figure\n",
    "fig = px.bar(data_frame=cluster_scores,\n",
    "             x=k,\n",
    "             y=cluster_scores.iloc[:, -1]\n",
    "            )\n",
    "\n",
    "# Add title and axis labels\n",
    "fig.update_layout(\n",
    "    yaxis_title=\"Silhouette Score\",\n",
    "    xaxis_title=\"# Clusters\",\n",
    "    title=\"Silhouette Score per cluster\"\n",
    ")\n",
    "\n",
    "# Render\n",
    "#fig.show(renderer=\"notebook\")\n",
    "fig.show() # if using workspace"
   ]
  },
  {
   "cell_type": "markdown",
   "id": "b09ef8e9-b259-45ee-bc52-786c8c8600cc",
   "metadata": {},
   "source": [
    "The optimal K seems to be K=10. Let's check this out"
   ]
  },
  {
   "cell_type": "code",
   "execution_count": 27,
   "id": "364f4960-33e1-4d56-a556-cfbc7dee0d73",
   "metadata": {
    "tags": []
   },
   "outputs": [
    {
     "data": {
      "text/html": [
       "<style>#sk-container-id-1 {color: black;}#sk-container-id-1 pre{padding: 0;}#sk-container-id-1 div.sk-toggleable {background-color: white;}#sk-container-id-1 label.sk-toggleable__label {cursor: pointer;display: block;width: 100%;margin-bottom: 0;padding: 0.3em;box-sizing: border-box;text-align: center;}#sk-container-id-1 label.sk-toggleable__label-arrow:before {content: \"▸\";float: left;margin-right: 0.25em;color: #696969;}#sk-container-id-1 label.sk-toggleable__label-arrow:hover:before {color: black;}#sk-container-id-1 div.sk-estimator:hover label.sk-toggleable__label-arrow:before {color: black;}#sk-container-id-1 div.sk-toggleable__content {max-height: 0;max-width: 0;overflow: hidden;text-align: left;background-color: #f0f8ff;}#sk-container-id-1 div.sk-toggleable__content pre {margin: 0.2em;color: black;border-radius: 0.25em;background-color: #f0f8ff;}#sk-container-id-1 input.sk-toggleable__control:checked~div.sk-toggleable__content {max-height: 200px;max-width: 100%;overflow: auto;}#sk-container-id-1 input.sk-toggleable__control:checked~label.sk-toggleable__label-arrow:before {content: \"▾\";}#sk-container-id-1 div.sk-estimator input.sk-toggleable__control:checked~label.sk-toggleable__label {background-color: #d4ebff;}#sk-container-id-1 div.sk-label input.sk-toggleable__control:checked~label.sk-toggleable__label {background-color: #d4ebff;}#sk-container-id-1 input.sk-hidden--visually {border: 0;clip: rect(1px 1px 1px 1px);clip: rect(1px, 1px, 1px, 1px);height: 1px;margin: -1px;overflow: hidden;padding: 0;position: absolute;width: 1px;}#sk-container-id-1 div.sk-estimator {font-family: monospace;background-color: #f0f8ff;border: 1px dotted black;border-radius: 0.25em;box-sizing: border-box;margin-bottom: 0.5em;}#sk-container-id-1 div.sk-estimator:hover {background-color: #d4ebff;}#sk-container-id-1 div.sk-parallel-item::after {content: \"\";width: 100%;border-bottom: 1px solid gray;flex-grow: 1;}#sk-container-id-1 div.sk-label:hover label.sk-toggleable__label {background-color: #d4ebff;}#sk-container-id-1 div.sk-serial::before {content: \"\";position: absolute;border-left: 1px solid gray;box-sizing: border-box;top: 0;bottom: 0;left: 50%;z-index: 0;}#sk-container-id-1 div.sk-serial {display: flex;flex-direction: column;align-items: center;background-color: white;padding-right: 0.2em;padding-left: 0.2em;position: relative;}#sk-container-id-1 div.sk-item {position: relative;z-index: 1;}#sk-container-id-1 div.sk-parallel {display: flex;align-items: stretch;justify-content: center;background-color: white;position: relative;}#sk-container-id-1 div.sk-item::before, #sk-container-id-1 div.sk-parallel-item::before {content: \"\";position: absolute;border-left: 1px solid gray;box-sizing: border-box;top: 0;bottom: 0;left: 50%;z-index: -1;}#sk-container-id-1 div.sk-parallel-item {display: flex;flex-direction: column;z-index: 1;position: relative;background-color: white;}#sk-container-id-1 div.sk-parallel-item:first-child::after {align-self: flex-end;width: 50%;}#sk-container-id-1 div.sk-parallel-item:last-child::after {align-self: flex-start;width: 50%;}#sk-container-id-1 div.sk-parallel-item:only-child::after {width: 0;}#sk-container-id-1 div.sk-dashed-wrapped {border: 1px dashed gray;margin: 0 0.4em 0.5em 0.4em;box-sizing: border-box;padding-bottom: 0.4em;background-color: white;}#sk-container-id-1 div.sk-label label {font-family: monospace;font-weight: bold;display: inline-block;line-height: 1.2em;}#sk-container-id-1 div.sk-label-container {text-align: center;}#sk-container-id-1 div.sk-container {/* jupyter's `normalize.less` sets `[hidden] { display: none; }` but bootstrap.min.css set `[hidden] { display: none !important; }` so we also need the `!important` here to be able to override the default hidden behavior on the sphinx rendered scikit-learn.org. See: https://github.com/scikit-learn/scikit-learn/issues/21755 */display: inline-block !important;position: relative;}#sk-container-id-1 div.sk-text-repr-fallback {display: none;}</style><div id=\"sk-container-id-1\" class=\"sk-top-container\"><div class=\"sk-text-repr-fallback\"><pre>KMeans(n_clusters=10, n_init=&#x27;auto&#x27;, random_state=0)</pre><b>In a Jupyter environment, please rerun this cell to show the HTML representation or trust the notebook. <br />On GitHub, the HTML representation is unable to render, please try loading this page with nbviewer.org.</b></div><div class=\"sk-container\" hidden><div class=\"sk-item\"><div class=\"sk-estimator sk-toggleable\"><input class=\"sk-toggleable__control sk-hidden--visually\" id=\"sk-estimator-id-1\" type=\"checkbox\" checked><label for=\"sk-estimator-id-1\" class=\"sk-toggleable__label sk-toggleable__label-arrow\">KMeans</label><div class=\"sk-toggleable__content\"><pre>KMeans(n_clusters=10, n_init=&#x27;auto&#x27;, random_state=0)</pre></div></div></div></div></div>"
      ],
      "text/plain": [
       "KMeans(n_clusters=10, n_init='auto', random_state=0)"
      ]
     },
     "execution_count": 27,
     "metadata": {},
     "output_type": "execute_result"
    }
   ],
   "source": [
    "# Instanciate Kmeans with n_clusters=9 and fitting\n",
    "kmeans = KMeans(n_clusters=10, random_state=0,n_init = 'auto')\n",
    "\n",
    "# Fit kmeans to our dataset\n",
    "kmeans.fit(X)"
   ]
  },
  {
   "cell_type": "code",
   "execution_count": 28,
   "id": "805dd03c-923e-46a1-94be-5ff002574f72",
   "metadata": {
    "tags": []
   },
   "outputs": [
    {
     "data": {
      "text/html": [
       "<iframe\n",
       "    scrolling=\"no\"\n",
       "    width=\"820px\"\n",
       "    height=\"820\"\n",
       "    src=\"iframe_figures/figure_28.html\"\n",
       "    frameborder=\"0\"\n",
       "    allowfullscreen\n",
       "></iframe>\n"
      ]
     },
     "metadata": {},
     "output_type": "display_data"
    }
   ],
   "source": [
    "fig = px.scatter_mapbox(sample,lat='Lat',lon='Lon',color=kmeans.labels_+1, # Adding +1 to get clusters from 1 to 9 \n",
    "                                                                           # instead of 0 to 8\n",
    "                        zoom=9,mapbox_style=\"carto-positron\",width=800,height=800, \n",
    "                        title='KMeans clusters in NYC')\n",
    "fig.show()"
   ]
  },
  {
   "cell_type": "markdown",
   "id": "c0ec55bb-b06b-4a78-8b04-429fa8c4dd0f",
   "metadata": {},
   "source": [
    "Kmeans clustering is not very efficient. Not any useful information can be highlighted. Let's try with DBSCAN to check if we can get a more detailed analysis."
   ]
  },
  {
   "cell_type": "markdown",
   "id": "b86d8e69-1dd3-43cd-ab3e-0c54baece78b",
   "metadata": {
    "tags": []
   },
   "source": [
    "## **Clustering with DBSCAN**"
   ]
  },
  {
   "cell_type": "code",
   "execution_count": 29,
   "id": "a6f353c4-a743-4e1f-8c4c-1040ae499728",
   "metadata": {
    "tags": []
   },
   "outputs": [
    {
     "data": {
      "text/html": [
       "<style>#sk-container-id-2 {color: black;}#sk-container-id-2 pre{padding: 0;}#sk-container-id-2 div.sk-toggleable {background-color: white;}#sk-container-id-2 label.sk-toggleable__label {cursor: pointer;display: block;width: 100%;margin-bottom: 0;padding: 0.3em;box-sizing: border-box;text-align: center;}#sk-container-id-2 label.sk-toggleable__label-arrow:before {content: \"▸\";float: left;margin-right: 0.25em;color: #696969;}#sk-container-id-2 label.sk-toggleable__label-arrow:hover:before {color: black;}#sk-container-id-2 div.sk-estimator:hover label.sk-toggleable__label-arrow:before {color: black;}#sk-container-id-2 div.sk-toggleable__content {max-height: 0;max-width: 0;overflow: hidden;text-align: left;background-color: #f0f8ff;}#sk-container-id-2 div.sk-toggleable__content pre {margin: 0.2em;color: black;border-radius: 0.25em;background-color: #f0f8ff;}#sk-container-id-2 input.sk-toggleable__control:checked~div.sk-toggleable__content {max-height: 200px;max-width: 100%;overflow: auto;}#sk-container-id-2 input.sk-toggleable__control:checked~label.sk-toggleable__label-arrow:before {content: \"▾\";}#sk-container-id-2 div.sk-estimator input.sk-toggleable__control:checked~label.sk-toggleable__label {background-color: #d4ebff;}#sk-container-id-2 div.sk-label input.sk-toggleable__control:checked~label.sk-toggleable__label {background-color: #d4ebff;}#sk-container-id-2 input.sk-hidden--visually {border: 0;clip: rect(1px 1px 1px 1px);clip: rect(1px, 1px, 1px, 1px);height: 1px;margin: -1px;overflow: hidden;padding: 0;position: absolute;width: 1px;}#sk-container-id-2 div.sk-estimator {font-family: monospace;background-color: #f0f8ff;border: 1px dotted black;border-radius: 0.25em;box-sizing: border-box;margin-bottom: 0.5em;}#sk-container-id-2 div.sk-estimator:hover {background-color: #d4ebff;}#sk-container-id-2 div.sk-parallel-item::after {content: \"\";width: 100%;border-bottom: 1px solid gray;flex-grow: 1;}#sk-container-id-2 div.sk-label:hover label.sk-toggleable__label {background-color: #d4ebff;}#sk-container-id-2 div.sk-serial::before {content: \"\";position: absolute;border-left: 1px solid gray;box-sizing: border-box;top: 0;bottom: 0;left: 50%;z-index: 0;}#sk-container-id-2 div.sk-serial {display: flex;flex-direction: column;align-items: center;background-color: white;padding-right: 0.2em;padding-left: 0.2em;position: relative;}#sk-container-id-2 div.sk-item {position: relative;z-index: 1;}#sk-container-id-2 div.sk-parallel {display: flex;align-items: stretch;justify-content: center;background-color: white;position: relative;}#sk-container-id-2 div.sk-item::before, #sk-container-id-2 div.sk-parallel-item::before {content: \"\";position: absolute;border-left: 1px solid gray;box-sizing: border-box;top: 0;bottom: 0;left: 50%;z-index: -1;}#sk-container-id-2 div.sk-parallel-item {display: flex;flex-direction: column;z-index: 1;position: relative;background-color: white;}#sk-container-id-2 div.sk-parallel-item:first-child::after {align-self: flex-end;width: 50%;}#sk-container-id-2 div.sk-parallel-item:last-child::after {align-self: flex-start;width: 50%;}#sk-container-id-2 div.sk-parallel-item:only-child::after {width: 0;}#sk-container-id-2 div.sk-dashed-wrapped {border: 1px dashed gray;margin: 0 0.4em 0.5em 0.4em;box-sizing: border-box;padding-bottom: 0.4em;background-color: white;}#sk-container-id-2 div.sk-label label {font-family: monospace;font-weight: bold;display: inline-block;line-height: 1.2em;}#sk-container-id-2 div.sk-label-container {text-align: center;}#sk-container-id-2 div.sk-container {/* jupyter's `normalize.less` sets `[hidden] { display: none; }` but bootstrap.min.css set `[hidden] { display: none !important; }` so we also need the `!important` here to be able to override the default hidden behavior on the sphinx rendered scikit-learn.org. See: https://github.com/scikit-learn/scikit-learn/issues/21755 */display: inline-block !important;position: relative;}#sk-container-id-2 div.sk-text-repr-fallback {display: none;}</style><div id=\"sk-container-id-2\" class=\"sk-top-container\"><div class=\"sk-text-repr-fallback\"><pre>DBSCAN(eps=0.15, metric=&#x27;manhattan&#x27;, min_samples=25)</pre><b>In a Jupyter environment, please rerun this cell to show the HTML representation or trust the notebook. <br />On GitHub, the HTML representation is unable to render, please try loading this page with nbviewer.org.</b></div><div class=\"sk-container\" hidden><div class=\"sk-item\"><div class=\"sk-estimator sk-toggleable\"><input class=\"sk-toggleable__control sk-hidden--visually\" id=\"sk-estimator-id-2\" type=\"checkbox\" checked><label for=\"sk-estimator-id-2\" class=\"sk-toggleable__label sk-toggleable__label-arrow\">DBSCAN</label><div class=\"sk-toggleable__content\"><pre>DBSCAN(eps=0.15, metric=&#x27;manhattan&#x27;, min_samples=25)</pre></div></div></div></div></div>"
      ],
      "text/plain": [
       "DBSCAN(eps=0.15, metric='manhattan', min_samples=25)"
      ]
     },
     "execution_count": 29,
     "metadata": {},
     "output_type": "execute_result"
    }
   ],
   "source": [
    "db = DBSCAN(eps=0.15,metric='manhattan',min_samples=25,algorithm=\"auto\")\n",
    "db.fit(X)"
   ]
  },
  {
   "cell_type": "code",
   "execution_count": 30,
   "id": "256771d1-b04b-427d-9582-aa3c48d68480",
   "metadata": {
    "tags": []
   },
   "outputs": [
    {
     "data": {
      "text/plain": [
       "\"#Ignoring outliers \\nsample['db_clusters'] = db.labels_\\noutliers = (sample['db_clusters']== -1)\\nsample=sample.loc[~outliers,:]\""
      ]
     },
     "execution_count": 30,
     "metadata": {},
     "output_type": "execute_result"
    }
   ],
   "source": [
    "'''#Ignoring outliers \n",
    "sample['db_clusters'] = db.labels_\n",
    "outliers = (sample['db_clusters']== -1)\n",
    "sample=sample.loc[~outliers,:]'''"
   ]
  },
  {
   "cell_type": "code",
   "execution_count": 31,
   "id": "06970550-0691-41c0-9e5b-ce3df64d9194",
   "metadata": {
    "tags": []
   },
   "outputs": [
    {
     "data": {
      "text/html": [
       "<iframe\n",
       "    scrolling=\"no\"\n",
       "    width=\"820px\"\n",
       "    height=\"820\"\n",
       "    src=\"iframe_figures/figure_31.html\"\n",
       "    frameborder=\"0\"\n",
       "    allowfullscreen\n",
       "></iframe>\n"
      ]
     },
     "metadata": {},
     "output_type": "display_data"
    }
   ],
   "source": [
    "fig = px.scatter_mapbox(sample,lat='Lat',lon='Lon',color=db.labels_,\n",
    "                        zoom=10,mapbox_style=\"carto-positron\",width=800,height=800,\n",
    "                        labels={'color':'Clusters'},\n",
    "                        title='DBSCAN clusters in NYC')\n",
    "fig.show()"
   ]
  },
  {
   "cell_type": "markdown",
   "id": "8c737a43-c5ba-4319-9b50-d6b29d325b8b",
   "metadata": {
    "tags": []
   },
   "source": [
    "**That's quite better ! Some areas stand out clearly :**\n",
    "1) As expected, Manhattan as a whole. That's not surprinsing. Harlem, in the north part, also seems to be a small cluster.\n",
    "2) Brooklyn borough gets 2 main clusters : \n",
    "    One from Prospect Heights to Brooklyn Dowtown and DUMBO neighbor (very touristic one). \n",
    "    The other one is located in the Williamsburg district.  \n",
    "3) Hunters point Avenue in northwestern Queens appears to be a hotzone. There's the railway station to Long Island here.\n",
    "4) 3 clusters stand out from the crowd far away from Manhattan : Newark Airport, La Guardia and JFK Airport !!"
   ]
  },
  {
   "cell_type": "code",
   "execution_count": 32,
   "id": "c7713ead-b3fa-4cab-909b-3d4f3817fb79",
   "metadata": {
    "tags": []
   },
   "outputs": [],
   "source": [
    "sample['cluster'] = db.labels_"
   ]
  },
  {
   "cell_type": "code",
   "execution_count": 33,
   "id": "51806517-b9dd-424c-9d6c-950c2a427e38",
   "metadata": {
    "tags": []
   },
   "outputs": [
    {
     "data": {
      "text/html": [
       "<div>\n",
       "<style scoped>\n",
       "    .dataframe tbody tr th:only-of-type {\n",
       "        vertical-align: middle;\n",
       "    }\n",
       "\n",
       "    .dataframe tbody tr th {\n",
       "        vertical-align: top;\n",
       "    }\n",
       "\n",
       "    .dataframe thead th {\n",
       "        text-align: right;\n",
       "    }\n",
       "</style>\n",
       "<table border=\"1\" class=\"dataframe\">\n",
       "  <thead>\n",
       "    <tr style=\"text-align: right;\">\n",
       "      <th></th>\n",
       "      <th>Date/Time</th>\n",
       "      <th>Lat</th>\n",
       "      <th>Lon</th>\n",
       "      <th>Base</th>\n",
       "      <th>hour</th>\n",
       "      <th>month</th>\n",
       "      <th>day</th>\n",
       "      <th>dayofweek</th>\n",
       "      <th>cluster</th>\n",
       "    </tr>\n",
       "  </thead>\n",
       "  <tbody>\n",
       "    <tr>\n",
       "      <th>587300</th>\n",
       "      <td>2014-07-31 19:59:00</td>\n",
       "      <td>40.8221</td>\n",
       "      <td>-73.9555</td>\n",
       "      <td>B02617</td>\n",
       "      <td>19</td>\n",
       "      <td>7</td>\n",
       "      <td>31</td>\n",
       "      <td>Thursday</td>\n",
       "      <td>-1</td>\n",
       "    </tr>\n",
       "    <tr>\n",
       "      <th>551923</th>\n",
       "      <td>2014-08-26 18:43:00</td>\n",
       "      <td>40.7706</td>\n",
       "      <td>-73.9601</td>\n",
       "      <td>B02617</td>\n",
       "      <td>18</td>\n",
       "      <td>8</td>\n",
       "      <td>26</td>\n",
       "      <td>Tuesday</td>\n",
       "      <td>0</td>\n",
       "    </tr>\n",
       "    <tr>\n",
       "      <th>38471</th>\n",
       "      <td>2014-08-01 19:53:00</td>\n",
       "      <td>40.7432</td>\n",
       "      <td>-74.0078</td>\n",
       "      <td>B02598</td>\n",
       "      <td>19</td>\n",
       "      <td>8</td>\n",
       "      <td>1</td>\n",
       "      <td>Friday</td>\n",
       "      <td>0</td>\n",
       "    </tr>\n",
       "    <tr>\n",
       "      <th>570574</th>\n",
       "      <td>2014-07-30 16:37:00</td>\n",
       "      <td>40.7592</td>\n",
       "      <td>-73.9792</td>\n",
       "      <td>B02617</td>\n",
       "      <td>16</td>\n",
       "      <td>7</td>\n",
       "      <td>30</td>\n",
       "      <td>Wednesday</td>\n",
       "      <td>0</td>\n",
       "    </tr>\n",
       "    <tr>\n",
       "      <th>21778</th>\n",
       "      <td>2014-07-21 14:45:00</td>\n",
       "      <td>40.6419</td>\n",
       "      <td>-73.7883</td>\n",
       "      <td>B02512</td>\n",
       "      <td>14</td>\n",
       "      <td>7</td>\n",
       "      <td>21</td>\n",
       "      <td>Monday</td>\n",
       "      <td>1</td>\n",
       "    </tr>\n",
       "    <tr>\n",
       "      <th>...</th>\n",
       "      <td>...</td>\n",
       "      <td>...</td>\n",
       "      <td>...</td>\n",
       "      <td>...</td>\n",
       "      <td>...</td>\n",
       "      <td>...</td>\n",
       "      <td>...</td>\n",
       "      <td>...</td>\n",
       "      <td>...</td>\n",
       "    </tr>\n",
       "    <tr>\n",
       "      <th>53018</th>\n",
       "      <td>2014-04-04 17:24:00</td>\n",
       "      <td>40.7700</td>\n",
       "      <td>-73.9672</td>\n",
       "      <td>B02598</td>\n",
       "      <td>17</td>\n",
       "      <td>4</td>\n",
       "      <td>4</td>\n",
       "      <td>Friday</td>\n",
       "      <td>0</td>\n",
       "    </tr>\n",
       "    <tr>\n",
       "      <th>1011718</th>\n",
       "      <td>2014-09-28 16:35:00</td>\n",
       "      <td>40.7767</td>\n",
       "      <td>-73.9831</td>\n",
       "      <td>B02764</td>\n",
       "      <td>16</td>\n",
       "      <td>9</td>\n",
       "      <td>28</td>\n",
       "      <td>Sunday</td>\n",
       "      <td>0</td>\n",
       "    </tr>\n",
       "    <tr>\n",
       "      <th>313631</th>\n",
       "      <td>2014-07-06 12:36:00</td>\n",
       "      <td>40.7708</td>\n",
       "      <td>-73.9670</td>\n",
       "      <td>B02617</td>\n",
       "      <td>12</td>\n",
       "      <td>7</td>\n",
       "      <td>6</td>\n",
       "      <td>Sunday</td>\n",
       "      <td>0</td>\n",
       "    </tr>\n",
       "    <tr>\n",
       "      <th>448037</th>\n",
       "      <td>2014-06-28 22:56:00</td>\n",
       "      <td>40.6877</td>\n",
       "      <td>-73.9781</td>\n",
       "      <td>B02617</td>\n",
       "      <td>22</td>\n",
       "      <td>6</td>\n",
       "      <td>28</td>\n",
       "      <td>Saturday</td>\n",
       "      <td>2</td>\n",
       "    </tr>\n",
       "    <tr>\n",
       "      <th>308189</th>\n",
       "      <td>2014-05-03 19:18:00</td>\n",
       "      <td>40.6952</td>\n",
       "      <td>-74.1786</td>\n",
       "      <td>B02617</td>\n",
       "      <td>19</td>\n",
       "      <td>5</td>\n",
       "      <td>3</td>\n",
       "      <td>Saturday</td>\n",
       "      <td>5</td>\n",
       "    </tr>\n",
       "  </tbody>\n",
       "</table>\n",
       "<p>10000 rows × 9 columns</p>\n",
       "</div>"
      ],
      "text/plain": [
       "                  Date/Time      Lat      Lon    Base  hour  month  day  \\\n",
       "587300  2014-07-31 19:59:00  40.8221 -73.9555  B02617    19      7   31   \n",
       "551923  2014-08-26 18:43:00  40.7706 -73.9601  B02617    18      8   26   \n",
       "38471   2014-08-01 19:53:00  40.7432 -74.0078  B02598    19      8    1   \n",
       "570574  2014-07-30 16:37:00  40.7592 -73.9792  B02617    16      7   30   \n",
       "21778   2014-07-21 14:45:00  40.6419 -73.7883  B02512    14      7   21   \n",
       "...                     ...      ...      ...     ...   ...    ...  ...   \n",
       "53018   2014-04-04 17:24:00  40.7700 -73.9672  B02598    17      4    4   \n",
       "1011718 2014-09-28 16:35:00  40.7767 -73.9831  B02764    16      9   28   \n",
       "313631  2014-07-06 12:36:00  40.7708 -73.9670  B02617    12      7    6   \n",
       "448037  2014-06-28 22:56:00  40.6877 -73.9781  B02617    22      6   28   \n",
       "308189  2014-05-03 19:18:00  40.6952 -74.1786  B02617    19      5    3   \n",
       "\n",
       "         dayofweek  cluster  \n",
       "587300    Thursday       -1  \n",
       "551923     Tuesday        0  \n",
       "38471       Friday        0  \n",
       "570574   Wednesday        0  \n",
       "21778       Monday        1  \n",
       "...            ...      ...  \n",
       "53018       Friday        0  \n",
       "1011718     Sunday        0  \n",
       "313631      Sunday        0  \n",
       "448037    Saturday        2  \n",
       "308189    Saturday        5  \n",
       "\n",
       "[10000 rows x 9 columns]"
      ]
     },
     "execution_count": 33,
     "metadata": {},
     "output_type": "execute_result"
    }
   ],
   "source": [
    "sample"
   ]
  },
  {
   "cell_type": "code",
   "execution_count": null,
   "id": "9f273ed0-a67e-46d2-9d84-c5f13106622e",
   "metadata": {},
   "outputs": [],
   "source": []
  },
  {
   "cell_type": "code",
   "execution_count": 34,
   "id": "83c23a63-f294-4cb8-9198-b4d756a5a941",
   "metadata": {},
   "outputs": [],
   "source": [
    "\n",
    "sample_monday = sample.loc[sample['dayofweek']=='Monday',:].sort_values(by='hour')\n",
    "sample_tuesday = sample.loc[sample['dayofweek']=='Tuesday',:].sort_values(by='hour')\n",
    "sample_wednesday = sample.loc[sample['dayofweek']=='Wednesday',:].sort_values(by='hour')\n",
    "sample_thursday = sample.loc[sample['dayofweek']=='Thursday',:].sort_values(by='hour')\n",
    "sample_friday = sample.loc[sample['dayofweek']=='Friday',:].sort_values(by='hour')\n",
    "sample_saturday = sample.loc[sample['dayofweek']=='Saturday',:].sort_values(by='hour')\n",
    "sample_sunday = sample.loc[sample['dayofweek']=='Sunday',:].sort_values(by='hour')\n",
    "\n",
    "fig1 = px.scatter_mapbox(sample_monday,lat='Lat',lon='Lon',color='cluster',\n",
    "                        zoom=10,mapbox_style=\"carto-positron\",width=800,height=800,\n",
    "                        labels={'color':'Clusters'},\n",
    "                        title='DBSCAN clusters in NYC for mondays')\n",
    "fig2 = px.scatter_mapbox(sample_tuesday,lat='Lat',lon='Lon',color='cluster',\n",
    "                        zoom=10,mapbox_style=\"carto-positron\",width=800,height=800,\n",
    "                        labels={'color':'Clusters'},\n",
    "                        title='DBSCAN clusters in NYC for tuesdays')\n",
    "fig3 = px.scatter_mapbox(sample_wednesday,lat='Lat',lon='Lon',color='cluster',\n",
    "                        zoom=10,mapbox_style=\"carto-positron\",width=800,height=800,\n",
    "                        labels={'color':'Clusters'},\n",
    "                        title='DBSCAN clusters in NYC for wednesdays')\n",
    "fig4 = px.scatter_mapbox(sample_thursday,lat='Lat',lon='Lon',color='cluster',\n",
    "                        zoom=10,mapbox_style=\"carto-positron\",width=800,height=800,\n",
    "                        labels={'color':'Clusters'},\n",
    "                        title='DBSCAN clusters in NYC for thursdays')\n",
    "fig5 = px.scatter_mapbox(sample_friday,lat='Lat',lon='Lon',color='cluster',\n",
    "                        zoom=10,mapbox_style=\"carto-positron\",width=800,height=800,\n",
    "                        labels={'color':'Clusters'},\n",
    "                        title='DBSCAN clusters in NYC for fridays')\n",
    "fig6 = px.scatter_mapbox(sample_saturday,lat='Lat',lon='Lon',color='cluster',\n",
    "                        zoom=10,mapbox_style=\"carto-positron\",width=800,height=800,\n",
    "                        labels={'color':'Clusters'},\n",
    "                        title='DBSCAN clusters in NYC for saturdays')\n",
    "fig7 = px.scatter_mapbox(sample_sunday,lat='Lat',lon='Lon',color='cluster',\n",
    "                        zoom=10,mapbox_style=\"carto-positron\",width=800,height=800,\n",
    "                        labels={'color':'Clusters'},\n",
    "                        title='DBSCAN clusters in NYC for sundays')\n",
    "\n"
   ]
  },
  {
   "cell_type": "code",
   "execution_count": 41,
   "id": "450496d5-d23f-4abf-84de-ef1e31ce593e",
   "metadata": {},
   "outputs": [
    {
     "data": {
      "text/html": [
       "<iframe\n",
       "    scrolling=\"no\"\n",
       "    width=\"820px\"\n",
       "    height=\"820\"\n",
       "    src=\"iframe_figures/figure_41.html\"\n",
       "    frameborder=\"0\"\n",
       "    allowfullscreen\n",
       "></iframe>\n"
      ]
     },
     "metadata": {},
     "output_type": "display_data"
    }
   ],
   "source": [
    "display(fig1)"
   ]
  },
  {
   "cell_type": "code",
   "execution_count": 42,
   "id": "370a2abf-e30f-452e-8e00-23a56af4cfa1",
   "metadata": {},
   "outputs": [
    {
     "data": {
      "text/html": [
       "<iframe\n",
       "    scrolling=\"no\"\n",
       "    width=\"820px\"\n",
       "    height=\"820\"\n",
       "    src=\"iframe_figures/figure_42.html\"\n",
       "    frameborder=\"0\"\n",
       "    allowfullscreen\n",
       "></iframe>\n"
      ]
     },
     "metadata": {},
     "output_type": "display_data"
    }
   ],
   "source": [
    "display(fig2)"
   ]
  },
  {
   "cell_type": "code",
   "execution_count": 50,
   "id": "f7a132d1-865c-4773-8536-94dce661739a",
   "metadata": {
    "tags": []
   },
   "outputs": [
    {
     "data": {
      "text/html": [
       "<iframe\n",
       "    scrolling=\"no\"\n",
       "    width=\"820px\"\n",
       "    height=\"820\"\n",
       "    src=\"iframe_figures/figure_50.html\"\n",
       "    frameborder=\"0\"\n",
       "    allowfullscreen\n",
       "></iframe>\n"
      ]
     },
     "metadata": {},
     "output_type": "display_data"
    }
   ],
   "source": [
    "fig3"
   ]
  },
  {
   "cell_type": "code",
   "execution_count": 51,
   "id": "3f889d0f-c1ef-45a3-8003-237475dcb139",
   "metadata": {
    "tags": []
   },
   "outputs": [
    {
     "data": {
      "text/html": [
       "<iframe\n",
       "    scrolling=\"no\"\n",
       "    width=\"820px\"\n",
       "    height=\"820\"\n",
       "    src=\"iframe_figures/figure_51.html\"\n",
       "    frameborder=\"0\"\n",
       "    allowfullscreen\n",
       "></iframe>\n"
      ]
     },
     "metadata": {},
     "output_type": "display_data"
    }
   ],
   "source": [
    "fig4"
   ]
  },
  {
   "cell_type": "code",
   "execution_count": 53,
   "id": "9cb18554-181b-4a88-bfa4-c2baf0c2de17",
   "metadata": {
    "tags": []
   },
   "outputs": [
    {
     "data": {
      "text/html": [
       "<iframe\n",
       "    scrolling=\"no\"\n",
       "    width=\"820px\"\n",
       "    height=\"820\"\n",
       "    src=\"iframe_figures/figure_53.html\"\n",
       "    frameborder=\"0\"\n",
       "    allowfullscreen\n",
       "></iframe>\n"
      ]
     },
     "metadata": {},
     "output_type": "display_data"
    }
   ],
   "source": [
    "fig5"
   ]
  },
  {
   "cell_type": "code",
   "execution_count": 54,
   "id": "af661c7a-c4eb-46ac-959a-9ce408a924b1",
   "metadata": {
    "tags": []
   },
   "outputs": [
    {
     "data": {
      "text/html": [
       "<iframe\n",
       "    scrolling=\"no\"\n",
       "    width=\"820px\"\n",
       "    height=\"820\"\n",
       "    src=\"iframe_figures/figure_54.html\"\n",
       "    frameborder=\"0\"\n",
       "    allowfullscreen\n",
       "></iframe>\n"
      ]
     },
     "metadata": {},
     "output_type": "display_data"
    }
   ],
   "source": [
    "fig6"
   ]
  },
  {
   "cell_type": "code",
   "execution_count": 82,
   "id": "e10e8274-af1a-4fbf-a8ee-7e8c9a3c12f4",
   "metadata": {
    "tags": []
   },
   "outputs": [
    {
     "data": {
      "text/html": [
       "<iframe\n",
       "    scrolling=\"no\"\n",
       "    width=\"820px\"\n",
       "    height=\"620\"\n",
       "    src=\"iframe_figures/figure_82.html\"\n",
       "    frameborder=\"0\"\n",
       "    allowfullscreen\n",
       "></iframe>\n"
      ]
     },
     "metadata": {},
     "output_type": "display_data"
    }
   ],
   "source": [
    "sample_density = sample_friday.sort_values(by='hour')\n",
    "fig = px.density_mapbox(sample_density, lat = 'Lat', lon = 'Lon', z = 'hour', radius = 12,\n",
    "                        mapbox_style='carto-positron',animation_frame = \"hour\",\n",
    "                        width=800, height=600,title = 'Density of rides per hour of day', zoom=9.5\n",
    "                       )\n",
    "\n",
    "fig.show()"
   ]
  },
  {
   "cell_type": "code",
   "execution_count": null,
   "id": "a4fb8752-34d3-4b19-bc08-b89ccfbdbf27",
   "metadata": {},
   "outputs": [],
   "source": []
  }
 ],
 "metadata": {
  "kernelspec": {
   "display_name": "Python 3 (ipykernel)",
   "language": "python",
   "name": "python3"
  },
  "language_info": {
   "codemirror_mode": {
    "name": "ipython",
    "version": 3
   },
   "file_extension": ".py",
   "mimetype": "text/x-python",
   "name": "python",
   "nbconvert_exporter": "python",
   "pygments_lexer": "ipython3",
   "version": "3.11.5"
  }
 },
 "nbformat": 4,
 "nbformat_minor": 5
}
